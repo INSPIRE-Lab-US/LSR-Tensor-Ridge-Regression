{
 "cells": [
  {
   "cell_type": "markdown",
   "metadata": {},
   "source": [
    "This code segment is to plot the sub problem level gradients after each BCD iteration."
   ]
  },
  {
   "cell_type": "code",
   "execution_count": null,
   "metadata": {},
   "outputs": [],
   "source": [
    "# Create a 2x3 grid of subplots\n",
    "fig, axs = plt.subplots(2, 3, figsize=(15, 10))\n",
    "\n",
    "# Plot data in each subplot\n",
    "axs[0, 0].plot(range(1, len(gradient_values_SGD) + 1), gradient_values_SGD[:, 0, 0], label='SGD',marker = 'o')\n",
    "axs[0, 0].set_title('Factor 1 1')\n",
    "axs[0, 0].set_yscale('log')\n",
    "\n",
    "axs[0, 1].plot(range(1, len(gradient_values_SGD) + 1), gradient_values_SGD[:, 0, 1], label='SGD',marker = 'o')\n",
    "axs[0, 1].set_title('Factor 1 2')\n",
    "axs[0, 1].set_yscale('log')\n",
    "\n",
    "axs[0, 2].plot(range(1, len(gradient_values_SGD) + 1), gradient_values_SGD[:, 1, 0], label='SGD',marker = 'o')\n",
    "axs[0, 2].set_title('Factor 2 1')\n",
    "axs[0, 2].set_yscale('log')\n",
    "\n",
    "axs[1, 0].plot(range(1, len(gradient_values_SGD) + 1), gradient_values_SGD[:, 1,1 ], label='SGD',marker = 'o')\n",
    "axs[1, 0].set_title('Factor 2 2')\n",
    "axs[1, 0].set_yscale('log')\n",
    "\n",
    "axs[1, 1].plot(range(1, len(gradient_values_SGD) + 1), gradient_values_SGD[:, 0,2 ], label='SGD',marker = 'o')\n",
    "axs[1, 1].set_title('Core')\n",
    "axs[1, 1].set_yscale('log')\n",
    "\n",
    "\n",
    "# Hide the empty subplot\n",
    "axs[1, 2].axis('off')\n",
    "\n",
    "\n",
    "# Add some spacing between subplots\n",
    "plt.tight_layout()\n",
    "\n",
    "# Show the plot\n",
    "plt.show()\n"
   ]
  }
 ],
 "metadata": {
  "language_info": {
   "name": "python"
  }
 },
 "nbformat": 4,
 "nbformat_minor": 2
}
