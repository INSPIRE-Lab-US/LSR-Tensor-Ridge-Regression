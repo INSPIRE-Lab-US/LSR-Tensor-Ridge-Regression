{
 "cells": [
  {
   "cell_type": "markdown",
   "metadata": {},
   "source": [
    "## Importing Libraries"
   ]
  },
  {
   "cell_type": "code",
   "execution_count": 1,
   "metadata": {},
   "outputs": [],
   "source": [
    "import numpy as np\n",
    "from sklearn.preprocessing import StandardScaler\n",
    "import dill\n",
    "import datetime"
   ]
  },
  {
   "cell_type": "markdown",
   "metadata": {},
   "source": [
    "## Importing Data"
   ]
  },
  {
   "cell_type": "code",
   "execution_count": 2,
   "metadata": {},
   "outputs": [
    {
     "name": "stdout",
     "output_type": "stream",
     "text": [
      "(5000, 32, 32)\n",
      "(5000,)\n",
      "(1000, 32, 32)\n",
      "(1000,)\n",
      "(32, 32)\n"
     ]
    }
   ],
   "source": [
    "import pickle\n",
    "pkl_file = \"/Users/lakrama/Neuro Project Codes/LSR-Tensor-Ridge-Regression/Data_Sets/Synthetic Data/Uncentered X/Bounded_Var_Time:2024-04-15 19:35:40, intercept:5,n_train:5000, n_test:1000, tensor_dimensions:[32 32], tensor_mode_ranks:[4 4], separation_rank:2.pkl\"\n",
    "file= open(pkl_file, 'rb')\n",
    "data = pickle.load(file)\n",
    "file.close()\n",
    "\n",
    "X_train_Full = data[0]\n",
    "print(data[0].shape)\n",
    "\n",
    "Y_train_Full = data[1]\n",
    "print(data[1].shape)\n",
    "\n",
    "X_test_Full = data[2]\n",
    "print(data[2].shape)\n",
    "\n",
    "Y_test_Full = data[3]\n",
    "print(data[3].shape)\n",
    "\n",
    "B_tensored = data[4]\n",
    "print(data[4].shape)"
   ]
  },
  {
   "cell_type": "markdown",
   "metadata": {},
   "source": [
    "## Setting up Global Parameters"
   ]
  },
  {
   "cell_type": "markdown",
   "metadata": {},
   "source": [
    "### 1. Tensor Parameters"
   ]
  },
  {
   "cell_type": "code",
   "execution_count": 3,
   "metadata": {},
   "outputs": [],
   "source": [
    "#importing path \n",
    "import sys\n",
    "sys.path.append('/Users/lakrama/Neuro Project Codes/Datasets/Platforms for Experments/CodeFiles')\n",
    "\n",
    "#parameters related to tensor\n",
    "\n",
    "tensor_dimensions = np.array([32, 32])\n",
    "tensor_mode_ranks = np.array([4, 4])\n",
    "separation_rank = 2"
   ]
  },
  {
   "cell_type": "markdown",
   "metadata": {},
   "source": [
    "### 2. Preprocessing Pipeline"
   ]
  },
  {
   "cell_type": "code",
   "execution_count": 4,
   "metadata": {},
   "outputs": [
    {
     "name": "stdout",
     "output_type": "stream",
     "text": [
      "Sample mean for each feature (across samples): [4.99871322 4.98420917 5.00873521 ... 5.01840176 4.98600789 5.01023623]\n",
      "Sample variance for each feature (across samples): None\n",
      "Response Average: 83.56008733093063\n"
     ]
    }
   ],
   "source": [
    "n_train = 650\n",
    "n_test = 100\n",
    "\n",
    "#Subset X_train and Y_train\n",
    "X_train = X_train_Full[0:(n_train),:,:]\n",
    "Y_train = Y_train_Full[0:(n_train)]\n",
    "\n",
    "#Subset X_test and Y_test\n",
    "X_test = X_test_Full[0:(n_test),:,:]\n",
    "Y_test = Y_test_Full[0:(n_test)]\n",
    "\n",
    "\n",
    "#Preprocessing\n",
    "\n",
    "# Reshape the 3D array to a 2D array where each row represents a sample\n",
    "# The shape of the original 3D array is (n_samples, n_features_per_sample, n_dimensions)\n",
    "# We reshape it to (n_samples, n_features_per_sample * n_dimensions)\n",
    "\n",
    "\n",
    "X_train_2D = X_train.reshape(n_train, -1)\n",
    "X_test_2D = X_test.reshape(n_test,-1)\n",
    "\n",
    "\n",
    "# Initialize StandardScaler\n",
    "scaler = StandardScaler(with_std = False) #standard scalar only\n",
    "\n",
    "# Fit scaler on train data and transform train data\n",
    "X_train_scaled = scaler.fit_transform(X_train_2D)\n",
    "# Transform test data using the scaler fitted on train data\n",
    "X_test_scaled = scaler.transform(X_test_2D)\n",
    "\n",
    "# Reshape the scaled data back to 3D\n",
    "X_train = X_train_scaled.reshape(n_train, tensor_dimensions[0],tensor_dimensions[1])\n",
    "X_test  = X_test_scaled.reshape(n_test, tensor_dimensions[0],tensor_dimensions[1])\n",
    "\n",
    "#average response value\n",
    "Y_train_mean = np.mean(Y_train)\n",
    "#Mean centering y_train and y_test\n",
    "Y_train = Y_train - Y_train_mean\n",
    "\n",
    "\n",
    "print(\"Sample mean for each feature (across samples):\",scaler.mean_)\n",
    "print(\"Sample variance for each feature (across samples):\",scaler.var_)\n",
    "print('Response Average:',Y_train_mean)\n"
   ]
  },
  {
   "cell_type": "code",
   "execution_count": 5,
   "metadata": {},
   "outputs": [
    {
     "name": "stdout",
     "output_type": "stream",
     "text": [
      "intercept is not initialized\n"
     ]
    }
   ],
   "source": [
    "# intializing the tensor object \n",
    "from LSR_Tensor_2D_v1 import LSR_tensor_dot\n",
    "\n",
    "hypers = {'max_iter': 100, 'threshold': 1e-4, 'ranks': tuple(tensor_mode_ranks), 'separation_rank': separation_rank}\n",
    "\n",
    "ranks = hypers['ranks']\n",
    "separation_rank = hypers['separation_rank']\n",
    "LSR_tensor_dot_shape = tuple(X_train.shape)[1:]\n",
    "need_intercept = False\n",
    "\n",
    "lsr_tensor_CL = LSR_tensor_dot(shape = LSR_tensor_dot_shape, ranks = ranks, separation_rank = separation_rank, intercept = need_intercept)\n",
    "\n",
    "#keeping a copy of the orginal object\n",
    "import copy\n",
    "lsr_tensor_SGD = copy.deepcopy(lsr_tensor_CL)\n",
    "\n",
    "#regularization parameter\n",
    "\n",
    "lambda1 = 50\n"
   ]
  },
  {
   "cell_type": "markdown",
   "metadata": {},
   "source": [
    "## Closed-Form Solver"
   ]
  },
  {
   "cell_type": "code",
   "execution_count": 6,
   "metadata": {},
   "outputs": [],
   "source": [
    "from sklearn.linear_model import Ridge\n",
    "import numpy as np\n",
    "from LSR_Tensor_2D_v1 import LSR_tensor_dot\n",
    "from lsr_bcd_regression_closed import lsr_bcd_regression\n",
    "from optimization_closed import inner_product, R2, objective_function_vectorized\n",
    "\n",
    "def train_test(X_train: np.ndarray, Y_train: np.ndarray, X_test: np.ndarray, Y_test: np.ndarray, B_tensored: np.ndarray,lsr_tensor_CL,lambda1, hypers,Y_train_mean, intercept = False):\n",
    "  hypers['weight_decay'] = lambda1\n",
    "\n",
    "  #Define LSR Tensor Hyperparameters\n",
    "  ranks = hypers['ranks']\n",
    "  separation_rank = hypers['separation_rank']\n",
    "  LSR_tensor_dot_shape = tuple(X_train.shape)[1:]\n",
    "  need_intercept = intercept\n",
    "\n",
    "  #Construct LSR Tensor\n",
    "  lsr_tensor = lsr_tensor_CL\n",
    "  lsr_tensor, objective_function_values = lsr_bcd_regression(lsr_tensor, X_train, Y_train, hypers,intercept = need_intercept)\n",
    "  expanded_lsr = lsr_tensor.expand_to_tensor()\n",
    "  expanded_lsr = np.reshape(expanded_lsr, X_train[0].shape, order = 'F')\n",
    "\n",
    "  Y_test_predicted = inner_product(np.transpose(X_test, (0, 2, 1)), expanded_lsr.flatten(order ='F')) + lsr_tensor.b + Y_train_mean\n",
    "\n",
    "\n",
    "  print(f\"Y_test_predicted: {Y_test_predicted.flatten()}, Y_test: {Y_test.flatten()}\")\n",
    "  test_nmse_loss = np.sum(np.square((Y_test_predicted.flatten() - Y_test.flatten()))) / np.sum(np.square(Y_test.flatten()))\n",
    "  normalized_estimation_error = ((np.linalg.norm(expanded_lsr - B_tensored)) ** 2) /  ((np.linalg.norm(B_tensored)) ** 2)\n",
    "  test_R2_loss = R2(Y_test.flatten(), Y_test_predicted.flatten())\n",
    "  test_correlation = np.corrcoef(Y_test_predicted.flatten(), Y_test.flatten())[0, 1]\n",
    "\n",
    "  print(\"Y Test Predicted: \", Y_test_predicted.flatten())\n",
    "  print(\"Y Test Actual: \", Y_test.flatten())\n",
    "\n",
    "  return normalized_estimation_error, test_nmse_loss, test_R2_loss, test_correlation, objective_function_values\n"
   ]
  },
  {
   "cell_type": "code",
   "execution_count": 7,
   "metadata": {},
   "outputs": [
    {
     "name": "stdout",
     "output_type": "stream",
     "text": [
      "Objective Function Value: 8008631.606928984\n",
      "Y_test_predicted: [ 68.02041069  64.41960276 100.77579506 106.1301542   67.72966597\n",
      "  98.27674955 112.45295025  85.81816011  59.77816863  60.27478652\n",
      "  67.02129865  64.0632874   82.83481592  69.5506344  141.69086953\n",
      "  96.15076473  99.4970838   56.30906696  96.1349019   87.01977517\n",
      "  49.49726385  90.79777849  74.5654065   78.1483965   47.15368596\n",
      "  78.62210361  84.85789078  45.35970449  88.15474389  72.18509507\n",
      "  88.35671982  88.99421443 123.34187184  81.00697862  86.95673635\n",
      "  82.30460576  99.88831213  69.36091127  80.40044919  91.99860033\n",
      "  68.56063483  87.57651519  61.43485771  58.16384994  56.28455664\n",
      "  87.95939497 111.01288094 133.1168043   43.59830354  72.85333867\n",
      "  96.67269871  87.20182832  80.89803122  90.26852884 124.93408609\n",
      " 160.12052811  59.86162444  86.65578808  90.49349049  86.1857812\n",
      "  80.52615973  96.63346117  57.12867128  51.35527106  70.42914674\n",
      " 131.95630479  94.8157632   84.28036726  62.46809367  83.18198851\n",
      "  75.4994273   96.7078015   77.87699597  65.0711087   71.04525383\n",
      "  66.0125897   59.64560545  69.15096751  67.61204222 104.83046367\n",
      "  79.41122343  93.10060693 111.66468492  61.62525796  56.97330436\n",
      "  97.86073586  67.78551521  72.00254408 126.81771729  65.10585607\n",
      " 103.39986464 150.3763987   66.57596925  91.53160135 123.5941169\n",
      "  48.05580785  64.03597392 108.17644394 101.34996668 114.689902  ], Y_test: [ 67.54932471  64.19367989 100.89907103 106.80033802  66.5296898\n",
      "  96.80085769 112.75716496  87.08379176  58.86645104  60.75871896\n",
      "  65.76651181  64.14603363  82.80477245  68.55912818 142.45923938\n",
      "  98.00053671  98.36489423  55.40988723  96.73410604  87.25275894\n",
      "  47.97392502  91.14302569  73.57729565  77.46144622  46.97758628\n",
      "  79.38435102  84.7040345   45.4879342   87.55672081  73.49886432\n",
      "  86.90598491  88.25175908 124.63253198  81.43265772  87.55287141\n",
      "  82.8080788   98.72768177  69.0468243   80.62856336  93.08545506\n",
      "  68.40807412  87.26847367  62.04717769  57.33990441  56.01334774\n",
      "  89.31934273 110.55219975 134.61307846  43.26935217  74.47617341\n",
      "  96.21843559  87.89937403  79.21862917  90.71786386 125.8824493\n",
      " 160.38439066  60.50387741  86.87508783  89.5739495   85.50880057\n",
      "  79.97185552  95.54965657  57.09355445  50.35928763  70.86185745\n",
      " 131.24078613  94.50837386  83.15863626  62.93422433  84.09831139\n",
      "  76.26182003  96.48126457  77.07300387  65.77838739  71.76861932\n",
      "  65.14937109  61.0440168   68.74400314  66.41967439 104.95340089\n",
      "  79.75508697  91.80406117 110.44770514  62.24491669  57.60974417\n",
      "  98.13365195  67.82489044  72.14320497 127.85744229  63.30804812\n",
      " 103.70015697 150.07489827  67.42743244  92.3906977  123.66379363\n",
      "  46.92967844  64.66629945 108.22935093 101.14612067 113.38031778]\n",
      "Y Test Predicted:  [ 68.02041069  64.41960276 100.77579506 106.1301542   67.72966597\n",
      "  98.27674955 112.45295025  85.81816011  59.77816863  60.27478652\n",
      "  67.02129865  64.0632874   82.83481592  69.5506344  141.69086953\n",
      "  96.15076473  99.4970838   56.30906696  96.1349019   87.01977517\n",
      "  49.49726385  90.79777849  74.5654065   78.1483965   47.15368596\n",
      "  78.62210361  84.85789078  45.35970449  88.15474389  72.18509507\n",
      "  88.35671982  88.99421443 123.34187184  81.00697862  86.95673635\n",
      "  82.30460576  99.88831213  69.36091127  80.40044919  91.99860033\n",
      "  68.56063483  87.57651519  61.43485771  58.16384994  56.28455664\n",
      "  87.95939497 111.01288094 133.1168043   43.59830354  72.85333867\n",
      "  96.67269871  87.20182832  80.89803122  90.26852884 124.93408609\n",
      " 160.12052811  59.86162444  86.65578808  90.49349049  86.1857812\n",
      "  80.52615973  96.63346117  57.12867128  51.35527106  70.42914674\n",
      " 131.95630479  94.8157632   84.28036726  62.46809367  83.18198851\n",
      "  75.4994273   96.7078015   77.87699597  65.0711087   71.04525383\n",
      "  66.0125897   59.64560545  69.15096751  67.61204222 104.83046367\n",
      "  79.41122343  93.10060693 111.66468492  61.62525796  56.97330436\n",
      "  97.86073586  67.78551521  72.00254408 126.81771729  65.10585607\n",
      " 103.39986464 150.3763987   66.57596925  91.53160135 123.5941169\n",
      "  48.05580785  64.03597392 108.17644394 101.34996668 114.689902  ]\n",
      "Y Test Actual:  [ 67.54932471  64.19367989 100.89907103 106.80033802  66.5296898\n",
      "  96.80085769 112.75716496  87.08379176  58.86645104  60.75871896\n",
      "  65.76651181  64.14603363  82.80477245  68.55912818 142.45923938\n",
      "  98.00053671  98.36489423  55.40988723  96.73410604  87.25275894\n",
      "  47.97392502  91.14302569  73.57729565  77.46144622  46.97758628\n",
      "  79.38435102  84.7040345   45.4879342   87.55672081  73.49886432\n",
      "  86.90598491  88.25175908 124.63253198  81.43265772  87.55287141\n",
      "  82.8080788   98.72768177  69.0468243   80.62856336  93.08545506\n",
      "  68.40807412  87.26847367  62.04717769  57.33990441  56.01334774\n",
      "  89.31934273 110.55219975 134.61307846  43.26935217  74.47617341\n",
      "  96.21843559  87.89937403  79.21862917  90.71786386 125.8824493\n",
      " 160.38439066  60.50387741  86.87508783  89.5739495   85.50880057\n",
      "  79.97185552  95.54965657  57.09355445  50.35928763  70.86185745\n",
      " 131.24078613  94.50837386  83.15863626  62.93422433  84.09831139\n",
      "  76.26182003  96.48126457  77.07300387  65.77838739  71.76861932\n",
      "  65.14937109  61.0440168   68.74400314  66.41967439 104.95340089\n",
      "  79.75508697  91.80406117 110.44770514  62.24491669  57.60974417\n",
      "  98.13365195  67.82489044  72.14320497 127.85744229  63.30804812\n",
      " 103.70015697 150.07489827  67.42743244  92.3906977  123.66379363\n",
      "  46.92967844  64.66629945 108.22935093 101.14612067 113.38031778]\n",
      "Error Report on Testing _ With best Lambda\n",
      "Alpha chosen for model:  50\n",
      "Test Normalized Estimation Error:  0.001523004353487688\n",
      "Test NMSE Loss:  9.359786665345663e-05\n",
      "Test R2 Loss:  0.9987023229646437\n",
      "Test Correlation:  0.9993669769325291\n"
     ]
    }
   ],
   "source": [
    "#hyper parameters\n",
    "\n",
    "normalized_estimation_error, test_nmse_loss, test_R2_loss, test_correlation, objective_function_values = train_test(X_train, Y_train, X_test, Y_test, B_tensored,lsr_tensor_CL, lambda1, hypers, Y_train_mean,intercept= False)\n",
    "\n",
    "#Get current time and store in variable\n",
    "formatted_time = datetime.datetime.now().strftime(\"%Y-%m-%d %H:%M:%S\")\n",
    "max_iter = hypers['max_iter']\n",
    "pkl_file = f\"/Users/lakrama/Neuro Project Codes/LSR-Tensor-Ridge-Regression/Closed_Form_Solver/Experimental Results/Tensor_Method/Finding Lamda for Test/ExecutionTime_intercept_5_{formatted_time}, n_train_{n_train},n_test_{n_test}, tensor_dimensions:{tensor_dimensions}, tensor_mode_= ranks:{tensor_mode_ranks}, separation_rank:{separation_rank}, max_iter={max_iter}.pkl\"\n",
    "\n",
    "print(\"Error Report on Testing _ With best Lambda\")\n",
    "print(\"Alpha chosen for model: \", lambda1)\n",
    "print(\"Test Normalized Estimation Error: \", normalized_estimation_error)\n",
    "print(\"Test NMSE Loss: \", test_nmse_loss)\n",
    "print(\"Test R2 Loss: \", test_R2_loss)\n",
    "print(\"Test Correlation: \", test_correlation)\n",
    "\n",
    "#with open(pkl_file, \"wb\") as file:\n",
    "#  dill.dump((X_train_Full, Y_train_Full, X_test_Full, Y_test_Full, B_tensored, lambda1, validation_normalized_estimation_error, validation_nmse_losses, validation_correlations, validation_R2_scores, objective_function_information, normalized_estimation_error, test_nmse_loss, test_R2_loss, test_correlation, objective_function_values), file)"
   ]
  },
  {
   "cell_type": "code",
   "execution_count": 8,
   "metadata": {},
   "outputs": [
    {
     "data": {
      "image/png": "[encoded data removed]",
      "text/plain": [
       "<Figure size 640x480 with 1 Axes>"
      ]
     },
     "metadata": {},
     "output_type": "display_data"
    },
    {
     "name": "stdout",
     "output_type": "stream",
     "text": [
      "Final Objective Function Value: 102042.31923334613\n"
     ]
    }
   ],
   "source": [
    "import matplotlib.pyplot as plt\n",
    "#gap_to_optimality\n",
    "plt.plot(range(1, len(objective_function_values)+1), objective_function_values[:,1,2])\n",
    "plt.title('Global Loss')\n",
    "plt.yscale('log')\n",
    "plt.xlabel('Epoch')\n",
    "plt.ylabel('Loss')\n",
    "plt.grid(True)\n",
    "plt.show()\n",
    "\n"
   ]
  },
  {
   "cell_type": "markdown",
   "metadata": {},
   "source": [
    "## Stochastic Solver"
   ]
  },
  {
   "cell_type": "code",
   "execution_count": 9,
   "metadata": {},
   "outputs": [],
   "source": [
    "from sklearn.linear_model import Ridge\n",
    "import numpy as np\n",
    "from LSR_Tensor_2D_v1 import LSR_tensor_dot\n",
    "from lsr_bcd_regression import lsr_bcd_regression\n",
    "from optimization import inner_product, R2, objective_function_vectorized\n",
    "\n",
    "def train_test_sgd(X_train: np.ndarray, Y_train: np.ndarray, X_test: np.ndarray, Y_test: np.ndarray, lambda1, hypers,Y_train_mean,lsr_tensor_SGD,B_tensored = None,intercept = False):\n",
    "  hypers['weight_decay'] = lambda1\n",
    "\n",
    "  \n",
    "  #Define LSR Tensor Hyperparameters\n",
    "  ranks = hypers['ranks']\n",
    "  separation_rank = hypers['separation_rank']\n",
    "  LSR_tensor_dot_shape = tuple(X_train.shape)[1:]\n",
    "  need_intercept = intercept\n",
    "\n",
    "  #Construct LSR Tensor\n",
    "  lsr_tensor = lsr_tensor_SGD\n",
    "  lsr_tensor, objective_function_values, gradient_values = lsr_bcd_regression(lsr_tensor, X_train, Y_train, hypers,intercept = need_intercept)\n",
    "  expanded_lsr = lsr_tensor.expand_to_tensor()\n",
    "  expanded_lsr = np.reshape(expanded_lsr, X_train[0].shape, order = 'F')\n",
    "  print(expanded_lsr.shape)\n",
    "  Y_test_predicted = inner_product(np.transpose(X_test, (0, 2, 1)), expanded_lsr.flatten(order ='F')) + lsr_tensor.b + Y_train_mean\n",
    "\n",
    "  print('---------------------------Testing with Best Lambda------------------------------')\n",
    "  #print(f\"Y_test_predicted: {Y_test_predicted.flatten()}, Y_test: {Y_test.flatten()}\")\n",
    "  test_nmse_loss = np.sum(np.square((Y_test_predicted.flatten() - Y_test.flatten()))) / np.sum(np.square(Y_test.flatten()))\n",
    "  if B_tensored is not None:\n",
    "    normalized_estimation_error = ((np.linalg.norm(expanded_lsr - B_tensored)) ** 2) /  ((np.linalg.norm(B_tensored)) ** 2)\n",
    "  test_R2_loss = R2(Y_test.flatten(), Y_test_predicted.flatten())\n",
    "  test_correlation = np.corrcoef(Y_test_predicted.flatten(), Y_test.flatten())[0, 1]\n",
    "\n",
    "  #print(\"Y Test Predicted: \", Y_test_predicted.flatten())\n",
    "  #print(\"Y Test Actual: \", Y_test.flatten())\n",
    "\n",
    "  if B_tensored is not None:\n",
    "    return normalized_estimation_error, test_nmse_loss, test_R2_loss, test_correlation, objective_function_values,gradient_values\n",
    "  else:\n",
    "    normalized_estimation_error = np.inf\n",
    "    return normalized_estimation_error, test_nmse_loss, test_R2_loss, test_correlation, objective_function_values,gradient_values\n",
    "\n"
   ]
  },
  {
   "cell_type": "code",
   "execution_count": 10,
   "metadata": {},
   "outputs": [
    {
     "name": "stdout",
     "output_type": "stream",
     "text": [
      "Objective Function Value: 8008631.606928984\n",
      "(32, 32)\n",
      "---------------------------Testing with Best Lambda------------------------------\n",
      "Error Report on Testing _ With best Lambda\n",
      "SGD_Alpha chosen for model:  50\n",
      "SGD_Test Normalized Estimation Error:  0.07040866464751032\n",
      "SGD_Test NMSE Loss:  0.00432778243964884\n",
      "SGD_Test R2 Loss:  0.9399979498812275\n",
      "SGD_Test Correlation:  0.9704811882890688\n"
     ]
    }
   ],
   "source": [
    "learning_rate = 0.000003\n",
    "epochs = 100\n",
    "batch_size = 32\n",
    "\n",
    "hypers = {'max_iter': 50, 'threshold': 1e-4, 'ranks': tuple(tensor_mode_ranks), 'separation_rank': separation_rank,'learning_rate':learning_rate,'epochs':epochs,'batch_size': batch_size}\n",
    "\n",
    "normalized_estimation_error_SGD, test_nmse_loss_SGD, test_R2_loss_SGD, test_correlation_SGD, objective_function_values_SGD,gradient_values_SGD = train_test_sgd(X_train, Y_train, X_test, Y_test, lambda1, hypers, Y_train_mean,lsr_tensor_SGD,B_tensored,intercept= False)\n",
    "\n",
    "#Get current time and store in variable\n",
    "formatted_time = datetime.datetime.now().strftime(\"%Y-%m-%d %H:%M:%S\")\n",
    "max_iter = hypers['max_iter']\n",
    "pkl_file = f\"/Users/lakrama/Neuro Project Codes/LSR-Tensor-Ridge-Regression/Closed_Form_Solver/Experimental Results/Tensor_Method/Finding Lamda for Test/ExecutionTime_intercept_5_{formatted_time}, n_train_{n_train},n_test_{n_test}, tensor_dimensions:{tensor_dimensions}, tensor_mode_= ranks:{tensor_mode_ranks}, separation_rank:{separation_rank}, max_iter={max_iter}.pkl\"\n",
    "\n",
    "print(\"Error Report on Testing _ With best Lambda\")\n",
    "print(\"SGD_Alpha chosen for model: \", lambda1)\n",
    "print(\"SGD_Test Normalized Estimation Error: \", normalized_estimation_error_SGD)\n",
    "print(\"SGD_Test NMSE Loss: \", test_nmse_loss_SGD)\n",
    "print(\"SGD_Test R2 Loss: \", test_R2_loss_SGD)\n",
    "print(\"SGD_Test Correlation: \", test_correlation_SGD)\n",
    "\n",
    "#with open(pkl_file, \"wb\") as file:\n",
    "#  dill.dump((X_train_Full, Y_train_Full, X_test_Full, Y_test_Full, B_tensored, lambda1, normalized_estimation_error_SGD, test_nmse_loss_SGD, test_R2_loss_SGD, test_correlation_SGD, objective_function_values_SGD), file)"
   ]
  },
  {
   "cell_type": "code",
   "execution_count": 13,
   "metadata": {},
   "outputs": [
    {
     "data": {
      "image/png": "[encoded data removed]",
      "text/plain": [
       "<Figure size 640x480 with 1 Axes>"
      ]
     },
     "metadata": {},
     "output_type": "display_data"
    },
    {
     "name": "stdout",
     "output_type": "stream",
     "text": [
      "Final Objective Function Value CLOSED: 102042.31923334613\n",
      "Final Objective Function Value SGD: 93093.47054031503\n"
     ]
    }
   ],
   "source": [
    "import matplotlib.pyplot as plt\n",
    "\n",
    "plt.figure()\n",
    "\n",
    "# Plotting the first set of data\n",
    "plt.plot(range(1, len(objective_function_values_SGD) + 1), objective_function_values_SGD[:, 1, 2], label='SGD',marker = 'o')\n",
    "\n",
    "# Plotting the second set of data\n",
    "plt.plot(range(1, len(objective_function_values) + 1), objective_function_values[:, 1, 2], label='CLOSED',marker = 'o')\n",
    "\n",
    "# Setting the title and labels\n",
    "plt.title('Global Loss Comparison')\n",
    "plt.yscale('log')\n",
    "plt.xlabel('Epoch')\n",
    "plt.ylabel('Loss')\n",
    "plt.grid(True)\n",
    "\n",
    "# Adding a legend to distinguish the two plots\n",
    "plt.legend()\n",
    "\n",
    "# Display the plot\n",
    "plt.show()\n",
    "\n",
    "print('Final Objective Function Value CLOSED:',objective_function_values[-1,1,2])\n",
    "print('Final Objective Function Value SGD:',objective_function_values_SGD[-1,1,2])"
   ]
  },
  {
   "cell_type": "code",
   "execution_count": null,
   "metadata": {},
   "outputs": [],
   "source": []
  }
 ],
 "metadata": {
  "kernelspec": {
   "display_name": "torchtensor",
   "language": "python",
   "name": "python3"
  },
  "language_info": {
   "codemirror_mode": {
    "name": "ipython",
    "version": 3
   },
   "file_extension": ".py",
   "mimetype": "text/x-python",
   "name": "python",
   "nbconvert_exporter": "python",
   "pygments_lexer": "ipython3",
   "version": "3.12.2"
  }
 },
 "nbformat": 4,
 "nbformat_minor": 2
}
