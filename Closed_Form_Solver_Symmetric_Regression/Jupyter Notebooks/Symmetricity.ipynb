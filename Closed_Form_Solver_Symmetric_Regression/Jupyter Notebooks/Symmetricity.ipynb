{
 "cells": [
  {
   "cell_type": "code",
   "execution_count": 4,
   "metadata": {},
   "outputs": [],
   "source": [
    "# This contain all the helper function to impose the adhoc symmetricity constraint on the factor matrices and the core tensor \n",
    "\n",
    "def  impose_symmetry(core_tensor,factor_matrices):\n",
    "    \n",
    "    #making the factor matrices equal for one separation rank\n",
    "    updated_factor_matrix = []\n",
    "    for sep in range (len(factor_matrices)):\n",
    "          updated_factor_matrix.append((factor_matrices[sep][0] + factor_matrices[sep][1] )/ 2)\n",
    "          \n",
    "    #projecting the core tensor in to the space of symmetric matrices\n",
    "    updated_core_tensor = (core_tensor + core_tensor.T) / 2    \n",
    "    \n",
    "    return updated_core_tensor,updated_factor_matrix\n",
    "                  "
   ]
  },
  {
   "cell_type": "code",
   "execution_count": 5,
   "metadata": {},
   "outputs": [],
   "source": [
    "import numpy as np\n",
    "\n",
    "# Unit Test \n",
    "B11 = np.array([[1,2],[5,6],[3,2]])\n",
    "B21 = np.array([[2,3],[3,2],[2,4]])\n",
    "B12 = np.array([[3,2],[6,6],[3,2]])\n",
    "B22 = np.array([[4,3],[3,6],[7,4]])\n",
    "\n",
    "factor_matrices_sep_1 = [B11,B21]\n",
    "factor_matrices_sep_2 = [B12,B22]\n",
    "\n",
    "factor_matrices = []\n",
    "factor_matrices.append(factor_matrices_sep_1)\n",
    "factor_matrices.append(factor_matrices_sep_2)\n",
    "\n",
    "core_tensor = np.array([[2,6],[7,8]])\n",
    "\n",
    "core_tensor_updated,factor_matrices_updated = impose_symmetry(core_tensor,factor_matrices)\n",
    "\n"
   ]
  },
  {
   "cell_type": "code",
   "execution_count": 6,
   "metadata": {},
   "outputs": [
    {
     "name": "stdout",
     "output_type": "stream",
     "text": [
      "[[1.5 2.5]\n",
      " [4.  4. ]\n",
      " [2.5 3. ]]\n",
      "[[3.5 2.5]\n",
      " [4.5 6. ]\n",
      " [5.  3. ]]\n",
      "[[2.  6.5]\n",
      " [6.5 8. ]]\n"
     ]
    }
   ],
   "source": [
    "print(factor_matrices_updated[0])\n",
    "print(factor_matrices_updated[1])\n",
    "print(core_tensor_updated)"
   ]
  },
  {
   "cell_type": "code",
   "execution_count": 10,
   "metadata": {},
   "outputs": [
    {
     "name": "stdout",
     "output_type": "stream",
     "text": [
      "[[188.25  361.125 244.5  ]\n",
      " [361.125 679.5   471.75 ]\n",
      " [244.5   471.75  317.   ]]\n"
     ]
    }
   ],
   "source": [
    "for s in range(len(factor_matrices_updated)):\n",
    "    B =+ factor_matrices_updated[s]@core_tensor_updated@(factor_matrices_updated[s]).T\n",
    "    \n",
    "print(B)"
   ]
  },
  {
   "cell_type": "code",
   "execution_count": null,
   "metadata": {},
   "outputs": [],
   "source": []
  }
 ],
 "metadata": {
  "kernelspec": {
   "display_name": "torchtensor",
   "language": "python",
   "name": "python3"
  },
  "language_info": {
   "codemirror_mode": {
    "name": "ipython",
    "version": 3
   },
   "file_extension": ".py",
   "mimetype": "text/x-python",
   "name": "python",
   "nbconvert_exporter": "python",
   "pygments_lexer": "ipython3",
   "version": "3.12.2"
  }
 },
 "nbformat": 4,
 "nbformat_minor": 2
}
