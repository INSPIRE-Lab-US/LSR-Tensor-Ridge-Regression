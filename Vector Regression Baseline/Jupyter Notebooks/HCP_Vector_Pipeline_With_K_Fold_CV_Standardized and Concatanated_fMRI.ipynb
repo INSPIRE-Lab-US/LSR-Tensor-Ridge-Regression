{
 "cells": [
  {
   "cell_type": "markdown",
   "metadata": {},
   "source": [
    "### Importing the Libraries"
   ]
  },
  {
   "cell_type": "code",
   "execution_count": 12,
   "metadata": {},
   "outputs": [],
   "source": [
    "# Needed to import data\n",
    "import sys\n",
    "import pandas as pd\n",
    "import re\n",
    "import dill\n",
    "import os \n",
    "\n",
    "# Time \n",
    "import time\n",
    "\n",
    "# bases\n",
    "import numpy as np\n",
    "import scipy\n",
    "\n",
    "#pre-processing \n",
    "from sklearn.preprocessing import StandardScaler\n",
    "\n",
    "#k-Fold cross \n",
    "from sklearn.model_selection import KFold\n",
    "from sklearn.metrics import accuracy_score\n",
    "\n",
    "#Ridge \n",
    "from sklearn.linear_model import Ridge\n",
    "\n",
    "#plotting \n",
    "import matplotlib.pyplot as plt\n",
    "\n",
    "#reproducability \n",
    "import random\n",
    "random.seed(42)\n",
    "np.random.seed(42)"
   ]
  },
  {
   "cell_type": "markdown",
   "metadata": {},
   "source": [
    "### Setting up paths"
   ]
  },
  {
   "cell_type": "code",
   "execution_count": 3,
   "metadata": {},
   "outputs": [],
   "source": [
    "sys.path.append('/Users/lakrama/Neuro Project Codes/LSR-Tensor-Ridge-Regression/Data_Sets/HCP')\n",
    "sys.path.append('/Users/lakrama/Neuro Project Codes/LSR-Tensor-Ridge-Regression/Vector Regression Baseline/Experimental Results/Vector_Base_Line/with k-fold cv kernel mapping before centering')"
   ]
  },
  {
   "cell_type": "markdown",
   "metadata": {},
   "source": [
    "### Importing Data "
   ]
  },
  {
   "cell_type": "markdown",
   "metadata": {},
   "source": [
    "#### 1. Data Loading"
   ]
  },
  {
   "cell_type": "code",
   "execution_count": 4,
   "metadata": {},
   "outputs": [],
   "source": [
    "#Load fMRI Resting State Data\n",
    "with open(\"/Users/lakrama/Neuro Project Codes/LSR-Tensor-Ridge-Regression/Data_Sets/HCP/Resting State FMRI/fmri_rs.npy\", \"rb\") as f:\n",
    "  fmri_rs = np.load(f)\n",
    "\n",
    "#Loading Structural FMRI data \n",
    "fMRI_language  = (scipy.io.loadmat(\"/Users/lakrama/Neuro Project Codes/LSR-Tensor-Ridge-Regression/Data_Sets/HCP/Resting State FMRI/features_lang.mat\")['features_lang'])\n",
    "\n",
    "#Take the Transpose so that each Sample is a Row\n",
    "fmri_rs = fmri_rs.T\n",
    "fMRI_language = fMRI_language.T\n",
    "\n",
    "#Get Split to divide into train + test(loaded data is in the form of features * sampels so need to transpose)\n",
    "mat_file = scipy.io.loadmat(\"/Users/lakrama/Neuro Project Codes/LSR-Tensor-Ridge-Regression/Data_Sets/HCP/Resting State FMRI/MMP_HCP_60_splits.mat\")\n",
    "seed_1 = mat_file['folds']['seed_1']\n",
    "subject_lists = seed_1[0, 0]['sub_fold'][0, 0]['subject_list']\n",
    "test_subjects = [int(item[0]) for item in subject_lists[0,0].flatten()]\n",
    "\n",
    "#Get HCP test subjects\n",
    "HCP_753_Subjects = []\n",
    "with open('/Users/lakrama/Neuro Project Codes/LSR-Tensor-Ridge-Regression/Data_Sets/HCP/Resting State FMRI/MMP_HCP_753_subs.txt', 'r') as file:\n",
    "    HCP_753_Subjects = [int(re.sub('\\n', '', line)) for line in file.readlines()]\n",
    "\n",
    "#Put the HCP test subjects into a dataframe\n",
    "df = pd.read_csv(\"/Users/lakrama/Neuro Project Codes/LSR-Tensor-Ridge-Regression/Data_Sets/HCP/Resting State FMRI/MMP_HCP_componentscores.csv\")\n",
    "df['Subject'] = pd.to_numeric(df['Subject'], errors='coerce')\n",
    "df = df[df['Subject'].isin(HCP_753_Subjects)].reset_index(drop = True)\n",
    "\n",
    "#Split all our data into a Train and Test Set\n",
    "df_train, df_test = df[~df['Subject'].isin(test_subjects)], df[df['Subject'].isin(test_subjects)]\n",
    "\n",
    "#Create Train and Test Arrays corresponding to Training and Test Subjects\n",
    "train_subjects = df_train.index.to_list()\n",
    "test_subjects = df_test.index.to_list()\n",
    "\n",
    "#Reshape Labels into Column Vectors\n",
    "\n",
    "# Assuming fmri_rs and dMRI_streamlog are numpy arrays or can be converted to numpy arrays\n",
    "X_train_fmri = fmri_rs[train_subjects]\n",
    "Y_train_fmri = df_train[\"varimax_cog\"].to_numpy().reshape((-1, 1))\n",
    "X_test_fmri = fmri_rs[test_subjects]\n",
    "Y_test_fmri = df_test[\"varimax_cog\"].to_numpy().reshape((-1, 1))\n",
    "\n",
    "X_train_fmri_language  = fMRI_language[train_subjects]\n",
    "X_test_fmri_language   = fMRI_language[test_subjects]\n",
    "\n",
    "\n",
    "\n"
   ]
  },
  {
   "cell_type": "markdown",
   "metadata": {},
   "source": [
    "#### 3. Concatanating the vectors"
   ]
  },
  {
   "cell_type": "code",
   "execution_count": 5,
   "metadata": {},
   "outputs": [
    {
     "name": "stdout",
     "output_type": "stream",
     "text": [
      "X_train_combined shape: (677, 159600)\n",
      "X_test_combined shape: (76, 159600)\n",
      "Y_train_combined shape: (677, 1)\n",
      "Y_test_combined shape: (76, 1)\n"
     ]
    }
   ],
   "source": [
    "# Check if number of samples match\n",
    "assert X_train_fmri.shape[0] == X_train_fmri_language.shape[0], \"Number of training samples do not match\"\n",
    "assert X_test_fmri.shape[0] == X_test_fmri_language.shape[0], \"Number of testing samples do not match\"\n",
    "\n",
    "# Concatenate along the features axis (axis=1)\n",
    "X_train_combined = np.concatenate((X_train_fmri, X_train_fmri_language), axis=1)\n",
    "X_test_combined = np.concatenate((X_test_fmri, X_test_fmri_language), axis=1)\n",
    "\n",
    "# The target variables remain the same\n",
    "Y_train_combined = Y_train_fmri\n",
    "Y_test_combined = Y_test_fmri\n",
    "\n",
    "# Verify the shapes\n",
    "print(\"X_train_combined shape:\", X_train_combined.shape)\n",
    "print(\"X_test_combined shape:\", X_test_combined.shape)\n",
    "print(\"Y_train_combined shape:\", Y_train_combined.shape)\n",
    "print(\"Y_test_combined shape:\", Y_test_combined.shape)\n",
    "\n",
    "X_train = X_train_combined\n",
    "X_test = X_test_combined\n",
    "Y_train = Y_train_combined\n",
    "Y_test = Y_test_combined"
   ]
  },
  {
   "cell_type": "markdown",
   "metadata": {},
   "source": [
    "### Preprocessing\n",
    "\n",
    "1. Transforming to kernel hiblert space."
   ]
  },
  {
   "cell_type": "code",
   "execution_count": 6,
   "metadata": {},
   "outputs": [],
   "source": [
    "#Row Wise Normalization of Samples\n",
    "def normalize_rows(matrix: np.ndarray):\n",
    "    \"\"\"\n",
    "    Normalize each row of the given matrix by the norm of the row.\n",
    "    \n",
    "    Parameters:\n",
    "    matrix (numpy.ndarray): The input matrix to be normalized.\n",
    "    \n",
    "    Returns:\n",
    "    numpy.ndarray: The row-normalized matrix.\n",
    "    \"\"\"\n",
    "    # Calculate the L2 norm for each row. Adding a small epsilon to avoid division by zero.\n",
    "    row_norms = np.linalg.norm(matrix, axis=1, keepdims=True)\n",
    "    epsilon = 1e-10  # Small value to prevent division by zero\n",
    "    row_norms[row_norms == 0] = epsilon\n",
    "    \n",
    "    # Normalize each row by its norm\n",
    "    normalized_matrix = matrix / row_norms\n",
    "    return normalized_matrix\n",
    "\n",
    "#Preprocess Data\n",
    "X_train = normalize_rows(X_train)\n",
    "X_test = normalize_rows(X_test)"
   ]
  },
  {
   "cell_type": "markdown",
   "metadata": {},
   "source": [
    "2. Removing the intercept from the data"
   ]
  },
  {
   "cell_type": "code",
   "execution_count": 19,
   "metadata": {},
   "outputs": [],
   "source": [
    "\n",
    "def LRR(X_train,Y_train,X_validatioon,Y_validation,alpha,Y_train_mean = None):\n",
    "\n",
    "    #model \n",
    "    ridge_regression = Ridge(alpha=alpha,fit_intercept=False)\n",
    "    #fitting model\n",
    "    ridge_regression.fit(X_train,Y_train)\n",
    "    #testing \n",
    "\n",
    "    if Y_train_mean is not None:\n",
    "        Y_predicted = ridge_regression.predict(X_validatioon).flatten().reshape(-1,1) + Y_train_mean\n",
    "    else:\n",
    "        Y_predicted = ridge_regression.predict(X_validatioon).flatten().reshape(-1,1) \n",
    "\n",
    "    #error matrices \n",
    "\n",
    "    #nmse\n",
    "    nmse    = (np.linalg.norm(Y_validation - Y_predicted)**2/(np.linalg.norm(Y_validation)**2))\n",
    "    #r2\n",
    "    numerator = np.sum((Y_validation - Y_predicted)**2)\n",
    "    denominator = np.sum((Y_validation - np.mean(Y_validation))**2)\n",
    "    r2 = 1 - (numerator / denominator)\n",
    "    #correlation\n",
    "    corr    = np.corrcoef(Y_validation.flatten(), Y_predicted.flatten())[0,1]\n",
    "    \n",
    "    return nmse,r2,corr"
   ]
  },
  {
   "cell_type": "code",
   "execution_count": 8,
   "metadata": {},
   "outputs": [
    {
     "name": "stdout",
     "output_type": "stream",
     "text": [
      "Sample mean for each feature (across samples): [0.00539955 0.00586687 0.00328127 ... 0.00187997 0.00089592 0.00327504]\n",
      "Sample variance for each feature (across samples): None\n",
      "Response Average: 1.127096656182391\n"
     ]
    }
   ],
   "source": [
    "#number of samples in train and test\n",
    "n_train = X_train.shape[0]\n",
    "n_test = X_test.shape[0]\n",
    "\n",
    "\n",
    "\n",
    "# Initialize StandardScaler\n",
    "scaler = StandardScaler(with_std = False) #standard scalar only\n",
    "\n",
    "# Fit scaler on train data and transform train data\n",
    "X_train_scaled = scaler.fit_transform(X_train)\n",
    "\n",
    "# Transform test data using the scaler fitted on train data\n",
    "X_test_scaled = scaler.transform(X_test)\n",
    "\n",
    "\n",
    "#average response value\n",
    "Y_train_mean = np.mean(Y_train)\n",
    "\n",
    "# Mean centering y_train and y_test\n",
    "Y_train = Y_train - Y_train_mean\n",
    "\n",
    "#printing the outcomes\n",
    "print(\"Sample mean for each feature (across samples):\",scaler.mean_)\n",
    "print(\"Sample variance for each feature (across samples):\",scaler.var_)\n",
    "print('Response Average:',Y_train_mean)"
   ]
  },
  {
   "cell_type": "markdown",
   "metadata": {},
   "source": [
    "### K-Fold Cross Validation"
   ]
  },
  {
   "cell_type": "code",
   "execution_count": 11,
   "metadata": {},
   "outputs": [
    {
     "name": "stdout",
     "output_type": "stream",
     "text": [
      "fold = 0,alpha = 0.01,nmse = 0.52022067377924,r2 = 0.47442880363560047, corr = 0.6966921418655032\n",
      "fold = 0,alpha = 0.02,nmse = 0.5194100205871295,r2 = 0.47524779447831134, corr = 0.6970718452806384\n",
      "fold = 0,alpha = 0.03,nmse = 0.5189799021919893,r2 = 0.47568233668492876, corr = 0.6972312061661035\n",
      "fold = 0,alpha = 0.04,nmse = 0.5188535481442792,r2 = 0.47580999029688176, corr = 0.6972116581769736\n",
      "fold = 0,alpha = 0.05,nmse = 0.5189712215521433,r2 = 0.4756911066060395, corr = 0.6970461029932571\n",
      "fold = 0,alpha = 0.06,nmse = 0.5192859211285419,r2 = 0.47537317031246296, corr = 0.6967609150988989\n",
      "fold = 0,alpha = 0.07,nmse = 0.5197603049416123,r2 = 0.47489390741358584, corr = 0.6963774138801669\n",
      "fold = 0,alpha = 0.08,nmse = 0.520364450363206,r2 = 0.47428354829483255, corr = 0.6959129607319207\n",
      "fold = 1,alpha = 0.01,nmse = 0.7258799850922157,r2 = 0.2739779921071144, corr = 0.5322740700272534\n",
      "fold = 1,alpha = 0.02,nmse = 0.7251152086109337,r2 = 0.2747429182215314, corr = 0.5331480576708997\n",
      "fold = 1,alpha = 0.03,nmse = 0.7245658172550367,r2 = 0.27529241706916374, corr = 0.533837229837196\n",
      "fold = 1,alpha = 0.04,nmse = 0.7241853813567419,r2 = 0.2756729274020382, corr = 0.5343779978835922\n",
      "fold = 1,alpha = 0.05,nmse = 0.7239385518477381,r2 = 0.2759198052047256, corr = 0.5347988387680989\n",
      "fold = 1,alpha = 0.06,nmse = 0.7237980747539752,r2 = 0.27606030978367935, corr = 0.5351222581315438\n",
      "fold = 1,alpha = 0.07,nmse = 0.7237427076137141,r2 = 0.2761156877568558, corr = 0.5353662044631236\n",
      "fold = 1,alpha = 0.08,nmse = 0.7237557363583065,r2 = 0.27610265646311105, corr = 0.5355451056320516\n",
      "fold = 2,alpha = 0.01,nmse = 0.4528830583792096,r2 = 0.5383081727895039, corr = 0.7478477751341003\n",
      "fold = 2,alpha = 0.02,nmse = 0.4534198326765809,r2 = 0.5377609580028879, corr = 0.7478290567345253\n",
      "fold = 2,alpha = 0.03,nmse = 0.4541111137455611,r2 = 0.5370562312219928, corr = 0.7477477389089474\n",
      "fold = 2,alpha = 0.04,nmse = 0.45492407905437965,r2 = 0.5362274533908451, corr = 0.7476172893763812\n",
      "fold = 2,alpha = 0.05,nmse = 0.4558335941066156,r2 = 0.5353002478825508, corr = 0.7474479367985942\n",
      "fold = 2,alpha = 0.06,nmse = 0.45682010688838703,r2 = 0.5342945470060096, corr = 0.7472475737667784\n",
      "fold = 2,alpha = 0.07,nmse = 0.45786820277115853,r2 = 0.5332260652108628, corr = 0.7470223737352312\n",
      "fold = 2,alpha = 0.08,nmse = 0.4589655884469979,r2 = 0.5321073349151302, corr = 0.7467772225309229\n",
      "fold = 3,alpha = 0.01,nmse = 0.6374807485477458,r2 = 0.3615266324977102, corr = 0.6207469304823118\n",
      "fold = 3,alpha = 0.02,nmse = 0.6322995346877907,r2 = 0.3667159140069186, corr = 0.6226052183535519\n",
      "fold = 3,alpha = 0.03,nmse = 0.6277842646987863,r2 = 0.3712382147063973, corr = 0.6242457681104121\n",
      "fold = 3,alpha = 0.04,nmse = 0.6238334692850022,r2 = 0.3751951618893483, corr = 0.6256987913222603\n",
      "fold = 3,alpha = 0.05,nmse = 0.6203648821287825,r2 = 0.3786691499700109, corr = 0.626989222251031\n",
      "fold = 3,alpha = 0.06,nmse = 0.6173110862062283,r2 = 0.38172770094708675, corr = 0.6281378500076784\n",
      "fold = 3,alpha = 0.07,nmse = 0.6146163059054842,r2 = 0.38442667728043434, corr = 0.6291621618479015\n",
      "fold = 3,alpha = 0.08,nmse = 0.6122340036142444,r2 = 0.3868126890459054, corr = 0.6300769826686942\n",
      "fold = 4,alpha = 0.01,nmse = 0.5150091813015841,r2 = 0.4834774036803866, corr = 0.7151077390029613\n",
      "fold = 4,alpha = 0.02,nmse = 0.514346022250299,r2 = 0.48414251150249743, corr = 0.7171009813003603\n",
      "fold = 4,alpha = 0.03,nmse = 0.5139292336628394,r2 = 0.48456052487221446, corr = 0.7188484667487993\n",
      "fold = 4,alpha = 0.04,nmse = 0.5137183506226163,r2 = 0.4847720276170405, corr = 0.7203818936086581\n",
      "fold = 4,alpha = 0.05,nmse = 0.5136807926683049,r2 = 0.4848096959398156, corr = 0.7217276610497129\n",
      "fold = 4,alpha = 0.06,nmse = 0.5137900174462645,r2 = 0.4847001501920065, corr = 0.7229079961657647\n",
      "fold = 4,alpha = 0.07,nmse = 0.5140241821057843,r2 = 0.48446529741210886, corr = 0.7239417869288594\n",
      "fold = 4,alpha = 0.08,nmse = 0.5143651524124874,r2 = 0.4841233251240792, corr = 0.724845211856036\n",
      "fold = 5,alpha = 0.01,nmse = 0.5573443642277105,r2 = 0.43009538016233806, corr = 0.6731666616088855\n",
      "fold = 5,alpha = 0.02,nmse = 0.556644628968607,r2 = 0.4308108845837004, corr = 0.6745027371123256\n",
      "fold = 5,alpha = 0.03,nmse = 0.5562698261294678,r2 = 0.4311941339413029, corr = 0.6755174448710392\n",
      "fold = 5,alpha = 0.04,nmse = 0.5561533614801576,r2 = 0.43131322322604293, corr = 0.6762702350524796\n",
      "fold = 5,alpha = 0.05,nmse = 0.5562439795012833,r2 = 0.43122056304645784, corr = 0.6768080386963438\n",
      "fold = 5,alpha = 0.06,nmse = 0.5565017252284464,r2 = 0.4309570087879391, corr = 0.6771682785996576\n",
      "fold = 5,alpha = 0.07,nmse = 0.5568951027620994,r2 = 0.43055476613840615, corr = 0.6773810668381937\n",
      "fold = 5,alpha = 0.08,nmse = 0.5573990377326231,r2 = 0.4300394745409084, corr = 0.6774708319214836\n",
      "fold = 6,alpha = 0.01,nmse = 0.4887959625001306,r2 = 0.46734521516975247, corr = 0.7396616432019151\n",
      "fold = 6,alpha = 0.02,nmse = 0.4897604411819025,r2 = 0.4662941954721165, corr = 0.7399053957799516\n",
      "fold = 6,alpha = 0.03,nmse = 0.49082548219119,r2 = 0.4651335901620074, corr = 0.7400378308839992\n",
      "fold = 6,alpha = 0.04,nmse = 0.4919705481336207,r2 = 0.4638857794189274, corr = 0.7400770036219546\n",
      "fold = 6,alpha = 0.05,nmse = 0.4931796235775711,r2 = 0.4625682157116765, corr = 0.7400372844416657\n",
      "fold = 6,alpha = 0.06,nmse = 0.49444001495265566,r2 = 0.46119473158291324, corr = 0.7399302983849982\n",
      "fold = 6,alpha = 0.07,nmse = 0.4957415235569785,r2 = 0.45977644084654046, corr = 0.7397655807175098\n",
      "fold = 6,alpha = 0.08,nmse = 0.4970758605248218,r2 = 0.4583223761139631, corr = 0.7395510461683952\n",
      "fold = 7,alpha = 0.01,nmse = 0.6555797882542488,r2 = 0.3324293753092582, corr = 0.586500616223113\n",
      "fold = 7,alpha = 0.02,nmse = 0.6523207307751705,r2 = 0.3357480423520677, corr = 0.5884886757334654\n",
      "fold = 7,alpha = 0.03,nmse = 0.6495887956221563,r2 = 0.3385299457746378, corr = 0.5901908297176715\n",
      "fold = 7,alpha = 0.04,nmse = 0.6472952789223438,r2 = 0.3408654118818365, corr = 0.5916500870169075\n",
      "fold = 7,alpha = 0.05,nmse = 0.6453701218678624,r2 = 0.3428257808872788, corr = 0.5929011427092037\n",
      "fold = 7,alpha = 0.06,nmse = 0.6437572044462817,r2 = 0.34446819926257144, corr = 0.5939723478455218\n",
      "fold = 7,alpha = 0.07,nmse = 0.6424110129506189,r2 = 0.34583901317998356, corr = 0.5948871319416501\n",
      "fold = 7,alpha = 0.08,nmse = 0.6412942300458179,r2 = 0.34697622252468785, corr = 0.5956650510558349\n",
      "fold = 8,alpha = 0.01,nmse = 0.479804861755062,r2 = 0.5083948960610004, corr = 0.7279675168709204\n",
      "fold = 8,alpha = 0.02,nmse = 0.481414374232827,r2 = 0.5067457994969753, corr = 0.7268726092875689\n",
      "fold = 8,alpha = 0.03,nmse = 0.48301243879039496,r2 = 0.5051084324014218, corr = 0.7258128487041456\n",
      "fold = 8,alpha = 0.04,nmse = 0.48459325300091755,r2 = 0.5034887399051233, corr = 0.7247868981097809\n",
      "fold = 8,alpha = 0.05,nmse = 0.48615332030323005,r2 = 0.5018903045630974, corr = 0.7237931041113334\n",
      "fold = 8,alpha = 0.06,nmse = 0.4876906443102488,r2 = 0.5003151718612445, corr = 0.7228296865007793\n",
      "fold = 8,alpha = 0.07,nmse = 0.489204211906646,r2 = 0.49876437983128497, corr = 0.7218948491480522\n",
      "fold = 8,alpha = 0.08,nmse = 0.4906936561375587,r2 = 0.4972383044529095, corr = 0.7209868434738665\n",
      "fold = 9,alpha = 0.01,nmse = 0.5288646353581057,r2 = 0.4580787376623269, corr = 0.6817999726180721\n",
      "fold = 9,alpha = 0.02,nmse = 0.5293990986993578,r2 = 0.4575310794730655, corr = 0.6814572885685461\n",
      "fold = 9,alpha = 0.03,nmse = 0.5301115328008877,r2 = 0.45680105677572225, corr = 0.6810385475680544\n",
      "fold = 9,alpha = 0.04,nmse = 0.5309658575838362,r2 = 0.4559256403952938, corr = 0.680558482517899\n",
      "fold = 9,alpha = 0.05,nmse = 0.5319338528608886,r2 = 0.4549337472199787, corr = 0.680028810731735\n",
      "fold = 9,alpha = 0.06,nmse = 0.532993180734269,r2 = 0.45384826662628563, corr = 0.6794589471597456\n",
      "fold = 9,alpha = 0.07,nmse = 0.5341259749670578,r2 = 0.45268750593336093, corr = 0.6788565243109997\n",
      "fold = 9,alpha = 0.08,nmse = 0.5353178156093091,r2 = 0.45146624109133404, corr = 0.6782277779225346\n",
      "The best alpha value is 0.05\n"
     ]
    }
   ],
   "source": [
    "\n",
    "# Number of folds we are using \n",
    "n_splits = 10\n",
    "kfold = KFold(n_splits=n_splits, shuffle=True, random_state=42)\n",
    "\n",
    "#the regularization coefficients to search over\n",
    "alphas = [0.01,0.02,0.03,0.04,0.05,0.06,0.07,0.08]\n",
    "#[0, 0.00001, 0.0001, 0.001, 0.004, 0.007, 0.01, 0.04, 0.07, 0.1, 0.4, 0.7, 1, 1.5, 2, 2.5, 3,3.5, 4, 5, 10, 15, 20]\n",
    "#[0.07,0.08,0.09,0.1,0.12,0.14,0.16,0.18,2.0,2.5,3.0,3.5,4.0]\n",
    "\n",
    "k_fold_results = np.zeros(shape=[n_splits,len(alphas),3])\n",
    "\n",
    "#iterating over the folds\n",
    "for fold,(train_ids,validation_ids) in enumerate(kfold.split(X_train)):\n",
    "\n",
    "    #the training and validatiion data \n",
    "    X_train_fold,Y_train_fold = X_train[train_ids],Y_train[train_ids]\n",
    "    X_validation_fold,Y_validation_fold = X_train[validation_ids],Y_train[validation_ids]\n",
    "    \n",
    "    #iterating over the alpha values \n",
    "    for alpha_idx,alpha in enumerate(alphas):\n",
    "        nmse,r2,corr = LRR(X_train_fold,Y_train_fold,X_validation_fold,Y_validation_fold,alpha)\n",
    "        k_fold_results[fold,alpha_idx,0] = nmse\n",
    "        k_fold_results[fold,alpha_idx,1] = r2\n",
    "        k_fold_results[fold,alpha_idx,2] = corr\n",
    "\n",
    "        print(f\"fold = {fold},alpha = {alpha},nmse = {nmse},r2 = {r2}, corr = {corr}\")\n",
    "\n",
    "#Choosing the best lambda\n",
    "\n",
    "#array to hold all the sums\n",
    "nmse_sum = np.zeros(len(alphas))\n",
    "\n",
    "# Iterate over the folds and alpha values to accumulate nmse values\n",
    "for alpha_idx in range(len(alphas)):\n",
    "    for fold in range(n_splits):\n",
    "        nmse_sum[alpha_idx] += k_fold_results[fold, alpha_idx, 0]\n",
    "\n",
    "#best lambda \n",
    "\n",
    "best_alpha_idx = np.argmin(nmse_sum)\n",
    "best_alpha = alphas[best_alpha_idx]        \n",
    "print(f\"The best alpha value is {best_alpha}\")\n",
    "        \n",
    "\n"
   ]
  },
  {
   "cell_type": "code",
   "execution_count": 16,
   "metadata": {},
   "outputs": [
    {
     "data": {
      "image/png": "[encoded data removed]",
      "text/plain": [
       "<Figure size 640x480 with 1 Axes>"
      ]
     },
     "metadata": {},
     "output_type": "display_data"
    },
    {
     "name": "stdout",
     "output_type": "stream",
     "text": [
      "average performance metrics: [0.55456699 0.43438286 0.67415781]\n"
     ]
    }
   ],
   "source": [
    "average_nmse_accross_folds = nmse_sum/n_splits\n",
    "\n",
    "plt.figure()\n",
    "plt.plot(alphas, average_nmse_accross_folds)\n",
    "plt.xlabel('Alphas')\n",
    "plt.ylabel('Average NMSE Across Folds')\n",
    "plt.title('Average NMSE Across Folds vs Alphas')\n",
    "plt.grid(True)\n",
    "plt.show()\n",
    "\n",
    "\n",
    "average_results = np.mean(k_fold_results, axis=0)\n",
    "print(f'average performance metrics: {average_results[best_alpha_idx]}')"
   ]
  },
  {
   "cell_type": "markdown",
   "metadata": {},
   "source": [
    "### Training and Testing with best Lambda"
   ]
  },
  {
   "cell_type": "code",
   "execution_count": 20,
   "metadata": {},
   "outputs": [
    {
     "name": "stdout",
     "output_type": "stream",
     "text": [
      "Time to run one experiment: 28.95216989517212\n"
     ]
    }
   ],
   "source": [
    "import time\n",
    "start_time = time.time()\n",
    "nmse_best,r2_best,corr_best =  LRR(X_train,Y_train,X_test,Y_test,best_alpha,Y_train_mean=Y_train_mean)\n",
    "end_time = time.time()\n",
    "elapsed_time = end_time - start_time \n",
    "print(f'Time to run one experiment: {elapsed_time}')"
   ]
  },
  {
   "cell_type": "markdown",
   "metadata": {},
   "source": [
    "### Reporting Errors"
   ]
  },
  {
   "cell_type": "code",
   "execution_count": 22,
   "metadata": {},
   "outputs": [
    {
     "name": "stdout",
     "output_type": "stream",
     "text": [
      "The best Lamda Values Selected After KFold CV: 0.05\n",
      "Testing Normalized Mean Squred Error: 0.5966716685070238\n",
      "Testing R2: 0.3603292221293981\n",
      "Testing Correlation: 0.6232998930222745\n"
     ]
    }
   ],
   "source": [
    "print(f\"The best Lamda Values Selected After KFold CV: {best_alpha}\")\n",
    "print(f\"Testing Normalized Mean Squred Error: {nmse_best}\")\n",
    "print(f\"Testing R2: {r2_best}\")\n",
    "print(f\"Testing Correlation: {corr_best}\")"
   ]
  },
  {
   "cell_type": "markdown",
   "metadata": {},
   "source": [
    "### Saving Stuff"
   ]
  },
  {
   "cell_type": "code",
   "execution_count": 15,
   "metadata": {},
   "outputs": [
    {
     "name": "stdout",
     "output_type": "stream",
     "text": [
      "Results saved to /Users/lakrama/Neuro Project Codes/LSR-Tensor-Ridge-Regression_All_Data/Vector Regression Baseline/Experimental Results/Vector_Base_Line/with concat k-fold cv kernel map centering fmri/with k-Fold cv std kernel map center/0.01_0.02_0.03_0.04_0.05_0.06_0.07_0.08results.txt\n"
     ]
    }
   ],
   "source": [
    "\n",
    "# Convert alphas list to a string for the file name\n",
    "alphas_str = '_'.join(map(str, alphas))\n",
    "\n",
    "# Define the content to write\n",
    "results = (\n",
    "    f\"The best Lambda Values Selected After KFold CV: {best_alpha}\\n\"\n",
    "    f\"Testing Normalized Mean Squared Error: {nmse_best}\\n\"\n",
    "    f\"Testing R2: {r2_best}\\n\"\n",
    "    f\"Testing Correlation: {corr_best}\\n\"\n",
    ")\n",
    "\n",
    "# Define the file path\n",
    "file_path = f'/Users/lakrama/Neuro Project Codes/LSR-Tensor-Ridge-Regression_All_Data/Vector Regression Baseline/Experimental Results/Vector_Base_Line/with concat k-fold cv kernel map centering fmri/with k-Fold cv std kernel map center/{alphas_str}results.txt'\n",
    "\n",
    "# Ensure the directory exists\n",
    "os.makedirs(os.path.dirname(file_path), exist_ok=True)\n",
    "\n",
    "# Write the results to a text file\n",
    "with open(file_path, 'w') as file:\n",
    "    file.write(results)\n",
    "\n",
    "print(f\"Results saved to {file_path}\")\n"
   ]
  },
  {
   "cell_type": "code",
   "execution_count": null,
   "metadata": {},
   "outputs": [],
   "source": []
  }
 ],
 "metadata": {
  "kernelspec": {
   "display_name": "torchtensor",
   "language": "python",
   "name": "python3"
  },
  "language_info": {
   "codemirror_mode": {
    "name": "ipython",
    "version": 3
   },
   "file_extension": ".py",
   "mimetype": "text/x-python",
   "name": "python",
   "nbconvert_exporter": "python",
   "pygments_lexer": "ipython3",
   "version": "3.12.2"
  }
 },
 "nbformat": 4,
 "nbformat_minor": 2
}
