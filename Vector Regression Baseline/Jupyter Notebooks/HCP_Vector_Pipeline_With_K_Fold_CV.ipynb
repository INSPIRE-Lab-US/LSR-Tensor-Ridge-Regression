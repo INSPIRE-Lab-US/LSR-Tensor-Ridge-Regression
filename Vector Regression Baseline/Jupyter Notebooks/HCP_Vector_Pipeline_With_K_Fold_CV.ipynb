{
 "cells": [
  {
   "cell_type": "markdown",
   "metadata": {},
   "source": [
    "### Importing the Libraries"
   ]
  },
  {
   "cell_type": "code",
   "execution_count": 1,
   "metadata": {},
   "outputs": [],
   "source": [
    "# Needed to import data\n",
    "import sys\n",
    "import pandas as pd\n",
    "import re\n",
    "import dill\n",
    "import os \n",
    "\n",
    "# bases\n",
    "import numpy as np\n",
    "import scipy\n",
    "\n",
    "#pre-processing \n",
    "from sklearn.preprocessing import StandardScaler\n",
    "\n",
    "#k-Fold cross \n",
    "from sklearn.model_selection import KFold\n",
    "from sklearn.metrics import accuracy_score\n",
    "\n",
    "#Ridge \n",
    "from sklearn.linear_model import Ridge\n"
   ]
  },
  {
   "cell_type": "markdown",
   "metadata": {},
   "source": [
    "### Setting up paths"
   ]
  },
  {
   "cell_type": "code",
   "execution_count": 2,
   "metadata": {},
   "outputs": [],
   "source": [
    "sys.path.append('/Users/lakrama/Neuro Project Codes/LSR-Tensor-Ridge-Regression/Data_Sets/HCP')\n",
    "sys.path.append('/Users/lakrama/Neuro Project Codes/LSR-Tensor-Ridge-Regression/Vector Regression Baseline/Experimental Results/Vector_Base_Line/with k-fold cv kernel mapping before centering')"
   ]
  },
  {
   "cell_type": "markdown",
   "metadata": {},
   "source": [
    "### Importing Data "
   ]
  },
  {
   "cell_type": "code",
   "execution_count": 3,
   "metadata": {},
   "outputs": [],
   "source": [
    "#Load fMRI Resting State Data\n",
    "with open(\"/Users/lakrama/Neuro Project Codes/LSR-Tensor-Ridge-Regression/Data_Sets/HCP/Resting State FMRI/fmri_rs.npy\", \"rb\") as f:\n",
    "  fmri_rs = np.load(f)\n",
    "\n",
    "#Take the Transpose so that each Sample is a Row\n",
    "fmri_rs = fmri_rs.T\n",
    "\n",
    "#Get Split to divide into train + test(loaded data is in the form of features * sampels so need to transpose)\n",
    "mat_file = scipy.io.loadmat(\"/Users/lakrama/Neuro Project Codes/LSR-Tensor-Ridge-Regression/Data_Sets/HCP/Resting State FMRI/MMP_HCP_60_splits.mat\")\n",
    "seed_1 = mat_file['folds']['seed_1']\n",
    "subject_lists = seed_1[0, 0]['sub_fold'][0, 0]['subject_list']\n",
    "test_subjects = [int(item[0]) for item in subject_lists[0,0].flatten()]\n",
    "\n",
    "#Get HCP test subjects\n",
    "HCP_753_Subjects = []\n",
    "with open('/Users/lakrama/Neuro Project Codes/LSR-Tensor-Ridge-Regression/Data_Sets/HCP/Resting State FMRI/MMP_HCP_753_subs.txt', 'r') as file:\n",
    "    HCP_753_Subjects = [int(re.sub('\\n', '', line)) for line in file.readlines()]\n",
    "\n",
    "#Put the HCP test subjects into a dataframe\n",
    "df = pd.read_csv(\"/Users/lakrama/Neuro Project Codes/LSR-Tensor-Ridge-Regression/Data_Sets/HCP/Resting State FMRI/MMP_HCP_componentscores.csv\")\n",
    "df['Subject'] = pd.to_numeric(df['Subject'], errors='coerce')\n",
    "df = df[df['Subject'].isin(HCP_753_Subjects)].reset_index(drop = True)\n",
    "\n",
    "#Split all our data into a Train and Test Set\n",
    "df_train, df_test = df[~df['Subject'].isin(test_subjects)], df[df['Subject'].isin(test_subjects)]\n",
    "\n",
    "#Create Train and Test Arrays corresponding to Training and Test Subjects\n",
    "train_subjects = df_train.index.to_list()\n",
    "test_subjects = df_test.index.to_list()\n",
    "\n",
    "#Reshape Labels into Column Vectors\n",
    "X_train, Y_train = fmri_rs[train_subjects], df_train[\"varimax_cog\"].to_numpy().reshape((-1, 1))\n",
    "X_test, Y_test = fmri_rs[test_subjects], df_test[\"varimax_cog\"].to_numpy().reshape((-1, 1))"
   ]
  },
  {
   "cell_type": "markdown",
   "metadata": {},
   "source": [
    "### Preprocessing\n",
    "\n",
    "1. Transforming to kernel hiblert space."
   ]
  },
  {
   "cell_type": "code",
   "execution_count": 4,
   "metadata": {},
   "outputs": [],
   "source": [
    "#Row Wise Normalization of Samples\n",
    "def normalize_rows(matrix: np.ndarray):\n",
    "    \"\"\"\n",
    "    Normalize each row of the given matrix by the norm of the row.\n",
    "    \n",
    "    Parameters:\n",
    "    matrix (numpy.ndarray): The input matrix to be normalized.\n",
    "    \n",
    "    Returns:\n",
    "    numpy.ndarray: The row-normalized matrix.\n",
    "    \"\"\"\n",
    "    # Calculate the L2 norm for each row. Adding a small epsilon to avoid division by zero.\n",
    "    row_norms = np.linalg.norm(matrix, axis=1, keepdims=True)\n",
    "    epsilon = 1e-10  # Small value to prevent division by zero\n",
    "    row_norms[row_norms == 0] = epsilon\n",
    "    \n",
    "    # Normalize each row by its norm\n",
    "    normalized_matrix = matrix / row_norms\n",
    "    return normalized_matrix\n",
    "\n",
    "#Preprocess Data\n",
    "X_train = normalize_rows(X_train)\n",
    "X_test = normalize_rows(X_test)"
   ]
  },
  {
   "cell_type": "markdown",
   "metadata": {},
   "source": [
    "2. Removing the intercept from the data"
   ]
  },
  {
   "cell_type": "code",
   "execution_count": 5,
   "metadata": {},
   "outputs": [],
   "source": [
    "\n",
    "def LRR(X_train,Y_train,X_validatioon,Y_validation,alpha,Y_train_mean = None):\n",
    "\n",
    "    #model \n",
    "    ridge_regression = Ridge(alpha=alpha,fit_intercept=False)\n",
    "    #fitting model\n",
    "    ridge_regression.fit(X_train,Y_train)\n",
    "    #testing \n",
    "\n",
    "    if Y_train_mean is not None:\n",
    "        Y_predicted = ridge_regression.predict(X_validatioon).flatten().reshape(-1,1) + Y_train_mean\n",
    "    else:\n",
    "        Y_predicted = ridge_regression.predict(X_validatioon).flatten().reshape(-1,1) \n",
    "\n",
    "    #error matrices \n",
    "\n",
    "    #nmse\n",
    "    nmse    = (np.linalg.norm(Y_validation - Y_predicted)**2/(np.linalg.norm(Y_validation)**2))\n",
    "    #r2\n",
    "    numerator = np.sum((Y_validation - Y_predicted)**2)\n",
    "    denominator = np.sum((Y_validation - np.mean(Y_validation))**2)\n",
    "    r2 = 1 - (numerator / denominator)\n",
    "    #correlation\n",
    "    corr    = np.corrcoef(Y_validation.flatten(), Y_predicted.flatten())[0,1]\n",
    "    \n",
    "    return nmse,r2,corr"
   ]
  },
  {
   "cell_type": "code",
   "execution_count": 6,
   "metadata": {},
   "outputs": [
    {
     "name": "stdout",
     "output_type": "stream",
     "text": [
      "Sample mean for each feature (across samples): [0.00856716 0.00931574 0.00521223 ... 0.00123731 0.00516826 0.00765609]\n",
      "Sample variance for each feature (across samples): None\n",
      "Response Average: 1.127096656182391\n"
     ]
    }
   ],
   "source": [
    "#number of samples in train and test\n",
    "n_train = X_train.shape[0]\n",
    "n_test = X_test.shape[0]\n",
    "\n",
    "\n",
    "\n",
    "# Initialize StandardScaler\n",
    "scaler = StandardScaler(with_std = False) #standard scalar only\n",
    "\n",
    "# Fit scaler on train data and transform train data\n",
    "X_train_scaled = scaler.fit_transform(X_train)\n",
    "\n",
    "# Transform test data using the scaler fitted on train data\n",
    "X_test_scaled = scaler.transform(X_test)\n",
    "\n",
    "\n",
    "#average response value\n",
    "Y_train_mean = np.mean(Y_train)\n",
    "\n",
    "# Mean centering y_train and y_test\n",
    "Y_train = Y_train - Y_train_mean\n",
    "\n",
    "#printing the outcomes\n",
    "print(\"Sample mean for each feature (across samples):\",scaler.mean_)\n",
    "print(\"Sample variance for each feature (across samples):\",scaler.var_)\n",
    "print('Response Average:',Y_train_mean)"
   ]
  },
  {
   "cell_type": "markdown",
   "metadata": {},
   "source": [
    "### K-Fold Cross Validation"
   ]
  },
  {
   "cell_type": "code",
   "execution_count": 7,
   "metadata": {},
   "outputs": [
    {
     "name": "stdout",
     "output_type": "stream",
     "text": [
      "fold = 0,alpha = 0.05,nmse = 0.5931910042481722,r2 = 0.404796952893397, corr = 0.6530016491779435\n",
      "fold = 0,alpha = 0.06,nmse = 0.5909306685383792,r2 = 0.4070649554293724, corr = 0.6521687200200885\n",
      "fold = 0,alpha = 0.07,nmse = 0.5894718204492765,r2 = 0.4085287517811057, corr = 0.6512085799782409\n",
      "fold = 0,alpha = 0.08,nmse = 0.5886174461853381,r2 = 0.40938602399464896, corr = 0.6501608119753686\n",
      "fold = 0,alpha = 0.09,nmse = 0.5882262161305655,r2 = 0.4097785810615171, corr = 0.6490536613566105\n",
      "fold = 0,alpha = 0.1,nmse = 0.5881944260588534,r2 = 0.40981047896188183, corr = 0.6479076148413828\n",
      "fold = 0,alpha = 0.11,nmse = 0.5884445008815222,r2 = 0.4095595559111421, corr = 0.6467377289970906\n",
      "fold = 0,alpha = 0.12,nmse = 0.5889174443312843,r2 = 0.4090850082858555, corr = 0.6455551850364151\n",
      "fold = 0,alpha = 0.13,nmse = 0.5895677441815769,r2 = 0.408432502685374, corr = 0.6443683510584973\n",
      "fold = 0,alpha = 0.14,nmse = 0.5903598519749022,r2 = 0.40763770814390654, corr = 0.6431835226598307\n",
      "fold = 0,alpha = 0.15,nmse = 0.5912656992842692,r2 = 0.40672878829366055, corr = 0.6420054487216128\n",
      "fold = 0,alpha = 0.16,nmse = 0.5922629124685591,r2 = 0.4057281926648436, corr = 0.6408377107685436\n",
      "fold = 0,alpha = 0.17,nmse = 0.5933335080373783,r2 = 0.40465396574599877, corr = 0.6396830006736736\n",
      "fold = 0,alpha = 0.18,nmse = 0.5944629249500523,r2 = 0.4035207179673522, corr = 0.638543326612339\n",
      "fold = 0,alpha = 0.19,nmse = 0.5956392971426991,r2 = 0.40234035564125425, corr = 0.6374201676027528\n",
      "fold = 1,alpha = 0.05,nmse = 0.6029331963758674,r2 = 0.395040409449129, corr = 0.6292551056138159\n",
      "fold = 1,alpha = 0.06,nmse = 0.6001376570024128,r2 = 0.3978453443322957, corr = 0.6320623665727668\n",
      "fold = 1,alpha = 0.07,nmse = 0.5980484993940834,r2 = 0.39994152337655464, corr = 0.6345276903806256\n",
      "fold = 1,alpha = 0.08,nmse = 0.5965105363801927,r2 = 0.4014846553201238, corr = 0.6367146140272825\n",
      "fold = 1,alpha = 0.09,nmse = 0.5954098673920267,r2 = 0.40258902353938153, corr = 0.6386710246176749\n",
      "fold = 1,alpha = 0.1,nmse = 0.5946610193865604,r2 = 0.40334038834313524, corr = 0.6404338459535286\n",
      "fold = 1,alpha = 0.11,nmse = 0.5941986207072876,r2 = 0.40380434109505836, corr = 0.6420321079431363\n",
      "fold = 1,alpha = 0.12,nmse = 0.5939718429519908,r2 = 0.4040318810262066, corr = 0.6434890203722047\n",
      "fold = 1,alpha = 0.13,nmse = 0.5939405915882026,r2 = 0.4040632374224956, corr = 0.6448234123966496\n",
      "fold = 1,alpha = 0.14,nmse = 0.5940728343948347,r2 = 0.40393055016189316, corr = 0.6460507557396256\n",
      "fold = 1,alpha = 0.15,nmse = 0.5943426895501804,r2 = 0.4036597880521482, corr = 0.6471839073918056\n",
      "fold = 1,alpha = 0.16,nmse = 0.5947290325442179,r2 = 0.40327214660050814, corr = 0.6482336588571749\n",
      "fold = 1,alpha = 0.17,nmse = 0.5952144646766443,r2 = 0.40278508298245197, corr = 0.6492091491669024\n",
      "fold = 1,alpha = 0.18,nmse = 0.5957845381615846,r2 = 0.40221309354132273, corr = 0.6501181801439679\n",
      "fold = 1,alpha = 0.19,nmse = 0.5964271663347365,r2 = 0.40156830556341194, corr = 0.6509674603341068\n",
      "fold = 2,alpha = 0.05,nmse = 0.6060893449875994,r2 = 0.3930346653082216, corr = 0.6368079704712275\n",
      "fold = 2,alpha = 0.06,nmse = 0.6051627365207929,r2 = 0.3939626130156588, corr = 0.6374535701827081\n",
      "fold = 2,alpha = 0.07,nmse = 0.604963083571204,r2 = 0.3941625545265457, corr = 0.637707243455373\n",
      "fold = 2,alpha = 0.08,nmse = 0.605312142965263,r2 = 0.39381299063189124, corr = 0.637656086860611\n",
      "fold = 2,alpha = 0.09,nmse = 0.6060802117775725,r2 = 0.3930438117186087, corr = 0.6373652137152739\n",
      "fold = 2,alpha = 0.1,nmse = 0.6071709913900251,r2 = 0.39195145558659195, corr = 0.6368841909165577\n",
      "fold = 2,alpha = 0.11,nmse = 0.6085117603296614,r2 = 0.39060874881419794, corr = 0.6362513379715394\n",
      "fold = 2,alpha = 0.12,nmse = 0.6100468024344385,r2 = 0.38907148809084513, corr = 0.6354966759160487\n",
      "fold = 2,alpha = 0.13,nmse = 0.6117328986750538,r2 = 0.387382954910925, corr = 0.6346439974343143\n",
      "fold = 2,alpha = 0.14,nmse = 0.6135361653512074,r2 = 0.3855770819473401, corr = 0.6337123497678668\n",
      "fold = 2,alpha = 0.15,nmse = 0.615429793029234,r2 = 0.38368071738181764, corr = 0.6327171161271476\n",
      "fold = 2,alpha = 0.16,nmse = 0.6173924015702629,r2 = 0.3817152722542536, corr = 0.631670816941959\n",
      "fold = 2,alpha = 0.17,nmse = 0.6194068249130797,r2 = 0.37969793743621827, corr = 0.6305837120384903\n",
      "fold = 2,alpha = 0.18,nmse = 0.6214592009432169,r2 = 0.3776425950772939, corr = 0.6294642590378584\n",
      "fold = 2,alpha = 0.19,nmse = 0.6235382813909865,r2 = 0.3755605097044563, corr = 0.6283194663734528\n",
      "fold = 3,alpha = 0.05,nmse = 0.8143776421980008,r2 = 0.1854709584313743, corr = 0.4597236303527017\n",
      "fold = 3,alpha = 0.06,nmse = 0.8072272872892475,r2 = 0.19262264264876394, corr = 0.46273346628600787\n",
      "fold = 3,alpha = 0.07,nmse = 0.8010872873589203,r2 = 0.1987637840545896, corr = 0.4654589655355873\n",
      "fold = 3,alpha = 0.08,nmse = 0.7957643799831784,r2 = 0.20408768100173524, corr = 0.4679407304628819\n",
      "fold = 3,alpha = 0.09,nmse = 0.7911132640780464,r2 = 0.20873966158681967, corr = 0.4702115006795478\n",
      "fold = 3,alpha = 0.1,nmse = 0.7870222532077114,r2 = 0.21283143300906404, corr = 0.47229807862410983\n",
      "fold = 3,alpha = 0.11,nmse = 0.7834038651214231,r2 = 0.2164504937828753, corr = 0.47422268781224663\n",
      "fold = 3,alpha = 0.12,nmse = 0.780188453644711,r2 = 0.21966650303050927, corr = 0.4760039571456085\n",
      "fold = 3,alpha = 0.13,nmse = 0.7773197819795352,r2 = 0.2225357080048801, corr = 0.4776576506914079\n",
      "fold = 3,alpha = 0.14,nmse = 0.7747518727291387,r2 = 0.2251040946503131, corr = 0.479197219395839\n",
      "fold = 3,alpha = 0.15,nmse = 0.772446719925556,r2 = 0.2274096760003902, corr = 0.48063422524926086\n",
      "fold = 3,alpha = 0.16,nmse = 0.7703725967161441,r2 = 0.2294841848060324, corr = 0.48197867219817486\n",
      "fold = 3,alpha = 0.17,nmse = 0.768502783229408,r2 = 0.2313543459061732, corr = 0.4832392676456959\n",
      "fold = 3,alpha = 0.18,nmse = 0.7668145963430828,r2 = 0.2330428466400536, corr = 0.4844236314654092\n",
      "fold = 3,alpha = 0.19,nmse = 0.7652886399893659,r2 = 0.23456908668136112, corr = 0.4855384647678584\n",
      "fold = 4,alpha = 0.05,nmse = 0.7782271084528155,r2 = 0.21687331821298927, corr = 0.4851975033297118\n",
      "fold = 4,alpha = 0.06,nmse = 0.7728870904329362,r2 = 0.2222469559945166, corr = 0.48755912084789693\n",
      "fold = 4,alpha = 0.07,nmse = 0.7685951629563011,r2 = 0.22656590464940218, corr = 0.4895084305985042\n",
      "fold = 4,alpha = 0.08,nmse = 0.7651354600226824,r2 = 0.23004738923011825, corr = 0.4911131141327462\n",
      "fold = 4,alpha = 0.09,nmse = 0.7623457262134619,r2 = 0.23285468668526244, corr = 0.4924277227235474\n",
      "fold = 4,alpha = 0.1,nmse = 0.7601017088100346,r2 = 0.23511283200547894, corr = 0.4934966058781444\n",
      "fold = 4,alpha = 0.11,nmse = 0.7583067151223148,r2 = 0.23691912664007087, corr = 0.49435611785902817\n",
      "fold = 4,alpha = 0.12,nmse = 0.7568844374889684,r2 = 0.2383503586692367, corr = 0.4950362914845436\n",
      "fold = 4,alpha = 0.13,nmse = 0.7557739085976486,r2 = 0.239467879244197, corr = 0.49556211816925116\n",
      "fold = 4,alpha = 0.14,nmse = 0.7549258823400874,r2 = 0.2403212445175711, corr = 0.4959545352916303\n",
      "fold = 4,alpha = 0.15,nmse = 0.7543001906537462,r2 = 0.24095087544255933, corr = 0.496231194414117\n",
      "fold = 4,alpha = 0.16,nmse = 0.7538637822327322,r2 = 0.24139003140993787, corr = 0.4964070640626794\n",
      "fold = 4,alpha = 0.17,nmse = 0.7535892463043459,r2 = 0.24166629576553977, corr = 0.4964949065540691\n",
      "fold = 4,alpha = 0.18,nmse = 0.7534536871123024,r2 = 0.24180270841307872, corr = 0.4965056581263898\n",
      "fold = 4,alpha = 0.19,nmse = 0.7534378557075462,r2 = 0.24181863948941873, corr = 0.4964487342235156\n",
      "fold = 5,alpha = 0.05,nmse = 0.721137591973936,r2 = 0.2620489357573371, corr = 0.5260326699316893\n",
      "fold = 5,alpha = 0.06,nmse = 0.7193533145859254,r2 = 0.2638748139420848, corr = 0.5273869893616145\n",
      "fold = 5,alpha = 0.07,nmse = 0.7179479866771934,r2 = 0.2653129073619823, corr = 0.5285888497126754\n",
      "fold = 5,alpha = 0.08,nmse = 0.7168391928441157,r2 = 0.2664475529528546, corr = 0.5296701692339492\n",
      "fold = 5,alpha = 0.09,nmse = 0.7159673736026961,r2 = 0.2673396988403983, corr = 0.5306541124402693\n",
      "fold = 5,alpha = 0.1,nmse = 0.7152883008865686,r2 = 0.2680346042775049, corr = 0.5315579256247799\n",
      "fold = 5,alpha = 0.11,nmse = 0.7147683568683518,r2 = 0.2685666708981609, corr = 0.5323947383533956\n",
      "fold = 5,alpha = 0.12,nmse = 0.7143814684494048,r2 = 0.26896257970070103, corr = 0.53317474392284\n",
      "fold = 5,alpha = 0.13,nmse = 0.7141070562882432,r2 = 0.2692433898382174, corr = 0.5339059942526626\n",
      "fold = 5,alpha = 0.14,nmse = 0.7139286258969123,r2 = 0.269425980371066, corr = 0.5345949482981072\n",
      "fold = 5,alpha = 0.15,nmse = 0.7138327768501375,r2 = 0.2695240641582122, corr = 0.5352468587387126\n",
      "fold = 5,alpha = 0.16,nmse = 0.7138084912879062,r2 = 0.26954891594335517, corr = 0.5358660500416389\n",
      "fold = 5,alpha = 0.17,nmse = 0.7138466132921598,r2 = 0.26950990511667927, corr = 0.5364561220052994\n",
      "fold = 5,alpha = 0.18,nmse = 0.7139394614260965,r2 = 0.2694148922092755, corr = 0.5370201011880161\n",
      "fold = 5,alpha = 0.19,nmse = 0.7140805359249679,r2 = 0.2692705285292535, corr = 0.5375605552444941\n",
      "fold = 6,alpha = 0.05,nmse = 0.8744870935494082,r2 = 0.09948521853098125, corr = 0.5105715217195512\n",
      "fold = 6,alpha = 0.06,nmse = 0.8657822996375063,r2 = 0.10844909649456891, corr = 0.5125451823332863\n",
      "fold = 6,alpha = 0.07,nmse = 0.8581003123565132,r2 = 0.11635972564921182, corr = 0.514217518791271\n",
      "fold = 6,alpha = 0.08,nmse = 0.851268677247798,r2 = 0.12339469328038744, corr = 0.515643152340693\n",
      "fold = 6,alpha = 0.09,nmse = 0.8451554774063739,r2 = 0.12968984258548732, corr = 0.5168633476948901\n",
      "fold = 6,alpha = 0.1,nmse = 0.8396572724431489,r2 = 0.135351692688768, corr = 0.5179100427133777\n",
      "fold = 6,alpha = 0.11,nmse = 0.8346912675517884,r2 = 0.1404655026494922, corr = 0.5188084679511665\n",
      "fold = 6,alpha = 0.12,nmse = 0.8301900414639763,r2 = 0.14510070042051537, corr = 0.5195789071741926\n",
      "fold = 6,alpha = 0.13,nmse = 0.826097884735422,r2 = 0.14931465354724938, corr = 0.5202379151537473\n",
      "fold = 6,alpha = 0.14,nmse = 0.8223681868440872,r2 = 0.15315535983821205, corr = 0.5207991815336336\n",
      "fold = 6,alpha = 0.15,nmse = 0.8189615272451376,r2 = 0.15666341312672394, corr = 0.5212741573685873\n",
      "fold = 6,alpha = 0.16,nmse = 0.8158442516128102,r2 = 0.15987346940489056, corr = 0.5216725185469623\n",
      "fold = 6,alpha = 0.17,nmse = 0.8129873904359108,r2 = 0.16281536041435185, corr = 0.5220025146137919\n",
      "fold = 6,alpha = 0.18,nmse = 0.8103658242862642,r2 = 0.16551495322226106, corr = 0.5222712354796205\n",
      "fold = 6,alpha = 0.19,nmse = 0.8079576301748318,r2 = 0.16799482331981708, corr = 0.5224848182397874\n",
      "fold = 7,alpha = 0.05,nmse = 0.5592039250855151,r2 = 0.41149357337043335, corr = 0.6560927754303069\n",
      "fold = 7,alpha = 0.06,nmse = 0.5583584179937312,r2 = 0.412383385360218, corr = 0.6577016343152824\n",
      "fold = 7,alpha = 0.07,nmse = 0.5582340507913601,r2 = 0.41251426945200276, corr = 0.6588749396203851\n",
      "fold = 7,alpha = 0.08,nmse = 0.5586609120338026,r2 = 0.41206504051567505, corr = 0.659699222911742\n",
      "fold = 7,alpha = 0.09,nmse = 0.5595147667029668,r2 = 0.4111664435322331, corr = 0.6602400457839939\n",
      "fold = 7,alpha = 0.1,nmse = 0.5607027816326816,r2 = 0.4099161761615917, corr = 0.6605480631995205\n",
      "fold = 7,alpha = 0.11,nmse = 0.562154310202515,r2 = 0.40838858693436497, corr = 0.6606630649538802\n",
      "fold = 7,alpha = 0.12,nmse = 0.56381474946793,r2 = 0.4066411400104628, corr = 0.6606167516745646\n",
      "fold = 7,alpha = 0.13,nmse = 0.5656413317672977,r2 = 0.40471884409349235, corr = 0.6604346909159091\n",
      "fold = 7,alpha = 0.14,nmse = 0.5676001726578923,r2 = 0.402657359184059, corr = 0.6601377261331391\n",
      "fold = 7,alpha = 0.15,nmse = 0.5696641569942046,r2 = 0.4004852212717638, corr = 0.6597430111519128\n",
      "fold = 7,alpha = 0.16,nmse = 0.5718113974768487,r2 = 0.3982254645589295, corr = 0.6592647825369343\n",
      "fold = 7,alpha = 0.17,nmse = 0.5740240924212716,r2 = 0.395896823545252, corr = 0.6587149449092167\n",
      "fold = 7,alpha = 0.18,nmse = 0.5762876671188879,r2 = 0.39351463665967257, corr = 0.6581035204395934\n",
      "fold = 7,alpha = 0.19,nmse = 0.5785901200119564,r2 = 0.3910915343461908, corr = 0.6574389981780318\n",
      "fold = 8,alpha = 0.05,nmse = 0.6022762017351514,r2 = 0.3851669214239899, corr = 0.6395287506248734\n",
      "fold = 8,alpha = 0.06,nmse = 0.6050258914891281,r2 = 0.38235990329560354, corr = 0.6390933363623781\n",
      "fold = 8,alpha = 0.07,nmse = 0.6078100138261042,r2 = 0.3795177346981331, corr = 0.6385232251556909\n",
      "fold = 8,alpha = 0.08,nmse = 0.6105973590595004,r2 = 0.37667227600996667, corr = 0.6378542934336592\n",
      "fold = 8,alpha = 0.09,nmse = 0.6133689320796649,r2 = 0.3738429183704375, corr = 0.637111537435932\n",
      "fold = 8,alpha = 0.1,nmse = 0.616113139417424,r2 = 0.37104149696134936, corr = 0.6363127943361495\n",
      "fold = 8,alpha = 0.11,nmse = 0.6188229773599458,r2 = 0.3682751615161787, corr = 0.6354710678840143\n",
      "fold = 8,alpha = 0.12,nmse = 0.621494340901692,r2 = 0.36554810262586257, corr = 0.6345960226626911\n",
      "fold = 8,alpha = 0.13,nmse = 0.6241249813964079,r2 = 0.3628626158187579, corr = 0.6336949680521271\n",
      "fold = 8,alpha = 0.14,nmse = 0.6267138504169827,r2 = 0.3602197713806674, corr = 0.6327735206080591\n",
      "fold = 8,alpha = 0.15,nmse = 0.6292606792696085,r2 = 0.3576198436074052, corr = 0.6318360589455468\n",
      "fold = 8,alpha = 0.16,nmse = 0.6317657054252698,r2 = 0.3550625900769462, corr = 0.6308860418651362\n",
      "fold = 8,alpha = 0.17,nmse = 0.6342294922929002,r2 = 0.35254743563382496, corr = 0.62992623458756\n",
      "fold = 8,alpha = 0.18,nmse = 0.6366528092893712,r2 = 0.35007359481957134, corr = 0.6289588721445047\n",
      "fold = 8,alpha = 0.19,nmse = 0.6390365514327998,r2 = 0.3476401539558064, corr = 0.6279857790873242\n",
      "fold = 9,alpha = 0.05,nmse = 0.7655736876825991,r2 = 0.2336225232282415, corr = 0.4918796136771561\n",
      "fold = 9,alpha = 0.06,nmse = 0.7638628021790297,r2 = 0.23533520502016658, corr = 0.4918194140007897\n",
      "fold = 9,alpha = 0.07,nmse = 0.7627874291203305,r2 = 0.23641170713168647, corr = 0.49153328810822533\n",
      "fold = 9,alpha = 0.08,nmse = 0.7621815779219175,r2 = 0.23701819442377747, corr = 0.4910815510225316\n",
      "fold = 9,alpha = 0.09,nmse = 0.7619272104082812,r2 = 0.23727282900227697, corr = 0.49050804684097465\n",
      "fold = 9,alpha = 0.1,nmse = 0.7619386869716649,r2 = 0.23726134038945035, corr = 0.4898451556304469\n",
      "fold = 9,alpha = 0.11,nmse = 0.7621528049999033,r2 = 0.23704699755498126, corr = 0.48911710721401985\n",
      "fold = 9,alpha = 0.12,nmse = 0.7625222339644664,r2 = 0.23667718072054278, corr = 0.4883422307184621\n",
      "fold = 9,alpha = 0.13,nmse = 0.7630110807413978,r2 = 0.23618782069490418, corr = 0.4875345154709404\n",
      "fold = 9,alpha = 0.14,nmse = 0.7635918285351699,r2 = 0.23560646316395362, corr = 0.4867047149503409\n",
      "fold = 9,alpha = 0.15,nmse = 0.7642431833327297,r2 = 0.2349544244976981, corr = 0.4858611408041673\n",
      "fold = 9,alpha = 0.16,nmse = 0.7649485329931953,r2 = 0.23424833427839342, corr = 0.48501024252622493\n",
      "fold = 9,alpha = 0.17,nmse = 0.765694827903253,r2 = 0.23350125582036918, corr = 0.48415703632289175\n",
      "fold = 9,alpha = 0.18,nmse = 0.766471756747991,r2 = 0.23272351126456636, corr = 0.4833054262108357\n",
      "fold = 9,alpha = 0.19,nmse = 0.7672711321031518,r2 = 0.23192329663135913, corr = 0.482458447021881\n",
      "The best alpha value is 0.13\n"
     ]
    }
   ],
   "source": [
    "\n",
    "\n",
    "#number of folds we are using \n",
    "n_splits = 10\n",
    "kfold = KFold(n_splits=n_splits, shuffle= True)\n",
    "\n",
    "#the regularization coefficients to search over\n",
    "alphas = [0.05,0.06,0.07,0.08,0.09,0.1,0.11,0.12,0.13,0.14,0.15,0.16,0.17,0.18,0.19] \n",
    "k_fold_results = np.zeros(shape=[n_splits,len(alphas),3])\n",
    "\n",
    "#iterating over the folds\n",
    "for fold,(train_ids,validation_ids) in enumerate(kfold.split(X_train)):\n",
    "\n",
    "    #the training and validatiion data \n",
    "    X_train_fold,Y_train_fold = X_train[train_ids],Y_train[train_ids]\n",
    "    X_validation_fold,Y_validation_fold = X_train[validation_ids],Y_train[validation_ids]\n",
    "    \n",
    "    #iterating over the alpha values \n",
    "    for alpha_idx,alpha in enumerate(alphas):\n",
    "        nmse,r2,corr = LRR(X_train_fold,Y_train_fold,X_validation_fold,Y_validation_fold,alpha)\n",
    "        k_fold_results[fold,alpha_idx,0] = nmse\n",
    "        k_fold_results[fold,alpha_idx,1] = r2\n",
    "        k_fold_results[fold,alpha_idx,2] = corr\n",
    "\n",
    "        print(f\"fold = {fold},alpha = {alpha},nmse = {nmse},r2 = {r2}, corr = {corr}\")\n",
    "\n",
    "#Choosing the best lambda\n",
    "\n",
    "#array to hold all the sums\n",
    "nmse_sum = np.zeros(len(alphas))\n",
    "\n",
    "# Iterate over the folds and alpha values to accumulate nmse values\n",
    "for alpha_idx in range(len(alphas)):\n",
    "    for fold in range(n_splits):\n",
    "        nmse_sum[alpha_idx] += k_fold_results[fold, alpha_idx, 0]\n",
    "\n",
    "#best lambda \n",
    "\n",
    "best_alpha_idx = np.argmin(nmse_sum)\n",
    "best_alpha = alphas[best_alpha_idx]        \n",
    "print(f\"The best alpha value is {best_alpha}\")\n",
    "        \n",
    "\n"
   ]
  },
  {
   "cell_type": "markdown",
   "metadata": {},
   "source": [
    "### Training and Testing with best Lambda"
   ]
  },
  {
   "cell_type": "code",
   "execution_count": 11,
   "metadata": {},
   "outputs": [],
   "source": [
    "nmse_best,r2_best,corr_best =  LRR(X_train,Y_train,X_test,Y_test,best_alpha,Y_train_mean=Y_train_mean)"
   ]
  },
  {
   "cell_type": "markdown",
   "metadata": {},
   "source": [
    "### Reporting Errors"
   ]
  },
  {
   "cell_type": "code",
   "execution_count": 12,
   "metadata": {},
   "outputs": [
    {
     "name": "stdout",
     "output_type": "stream",
     "text": [
      "The best Lamda Values Selected After KFold CV: 0.13\n",
      "Testing Normalized Mean Squred Error: 0.7347483036434304\n",
      "Testing R2: 0.2123021022487751\n",
      "Testing Correlation: 0.49637869310294774\n"
     ]
    }
   ],
   "source": [
    "print(f\"The best Lamda Values Selected After KFold CV: {best_alpha}\")\n",
    "print(f\"Testing Normalized Mean Squred Error: {nmse_best}\")\n",
    "print(f\"Testing R2: {r2_best}\")\n",
    "print(f\"Testing Correlation: {corr_best}\")"
   ]
  },
  {
   "cell_type": "markdown",
   "metadata": {},
   "source": [
    "### Saving Stuff"
   ]
  },
  {
   "cell_type": "code",
   "execution_count": 10,
   "metadata": {},
   "outputs": [
    {
     "name": "stdout",
     "output_type": "stream",
     "text": [
      "Results saved to /Users/lakrama/Neuro Project Codes/LSR-Tensor-Ridge-Regression/Vector Regression Baseline/Experimental Results/Vector_Base_Line/with k-fold cv kernel mapping before centering/0.05_0.06_0.07_0.08_0.09_0.1_0.11_0.12_0.13_0.14_0.15_0.16_0.17_0.18_0.19results.txt\n"
     ]
    }
   ],
   "source": [
    "\n",
    "# Convert alphas list to a string for the file name\n",
    "alphas_str = '_'.join(map(str, alphas))\n",
    "\n",
    "# Define the content to write\n",
    "results = (\n",
    "    f\"The best Lambda Values Selected After KFold CV: {best_alpha}\\n\"\n",
    "    f\"Testing Normalized Mean Squared Error: {nmse_best}\\n\"\n",
    "    f\"Testing R2: {r2_best}\\n\"\n",
    "    f\"Testing Correlation: {corr_best}\\n\"\n",
    ")\n",
    "\n",
    "# Define the file path\n",
    "file_path = f'/Users/lakrama/Neuro Project Codes/LSR-Tensor-Ridge-Regression/Vector Regression Baseline/Experimental Results/Vector_Base_Line/with k-fold cv kernel mapping before centering/{alphas_str}results.txt'\n",
    "\n",
    "# Ensure the directory exists\n",
    "os.makedirs(os.path.dirname(file_path), exist_ok=True)\n",
    "\n",
    "# Write the results to a text file\n",
    "with open(file_path, 'w') as file:\n",
    "    file.write(results)\n",
    "\n",
    "print(f\"Results saved to {file_path}\")\n"
   ]
  },
  {
   "cell_type": "code",
   "execution_count": null,
   "metadata": {},
   "outputs": [],
   "source": []
  }
 ],
 "metadata": {
  "kernelspec": {
   "display_name": "torchtensor",
   "language": "python",
   "name": "python3"
  },
  "language_info": {
   "codemirror_mode": {
    "name": "ipython",
    "version": 3
   },
   "file_extension": ".py",
   "mimetype": "text/x-python",
   "name": "python",
   "nbconvert_exporter": "python",
   "pygments_lexer": "ipython3",
   "version": "3.12.2"
  }
 },
 "nbformat": 4,
 "nbformat_minor": 2
}
