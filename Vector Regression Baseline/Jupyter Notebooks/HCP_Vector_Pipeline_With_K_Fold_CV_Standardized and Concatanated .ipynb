{
 "cells": [
  {
   "cell_type": "markdown",
   "metadata": {},
   "source": [
    "### Importing the Libraries"
   ]
  },
  {
   "cell_type": "code",
   "execution_count": 59,
   "metadata": {},
   "outputs": [],
   "source": [
    "# Needed to import data\n",
    "import sys\n",
    "import pandas as pd\n",
    "import re\n",
    "import dill\n",
    "import os \n",
    "\n",
    "# bases\n",
    "import numpy as np\n",
    "import scipy\n",
    "\n",
    "#pre-processing \n",
    "from sklearn.preprocessing import StandardScaler\n",
    "\n",
    "#k-Fold cross \n",
    "from sklearn.model_selection import KFold\n",
    "from sklearn.metrics import accuracy_score\n",
    "\n",
    "#Ridge \n",
    "from sklearn.linear_model import Ridge\n",
    "\n",
    "#plotting \n",
    "import matplotlib.pyplot as plt\n",
    "\n",
    "#reproducability \n",
    "import random\n",
    "random.seed(42)\n",
    "np.random.seed(42)"
   ]
  },
  {
   "cell_type": "markdown",
   "metadata": {},
   "source": [
    "### Setting up paths"
   ]
  },
  {
   "cell_type": "code",
   "execution_count": 60,
   "metadata": {},
   "outputs": [],
   "source": [
    "sys.path.append('/Users/lakrama/Neuro Project Codes/LSR-Tensor-Ridge-Regression/Data_Sets/HCP')\n",
    "sys.path.append('/Users/lakrama/Neuro Project Codes/LSR-Tensor-Ridge-Regression/Vector Regression Baseline/Experimental Results/Vector_Base_Line/with k-fold cv kernel mapping before centering')"
   ]
  },
  {
   "cell_type": "markdown",
   "metadata": {},
   "source": [
    "### Importing Data "
   ]
  },
  {
   "cell_type": "markdown",
   "metadata": {},
   "source": [
    "#### 1. Data Loading"
   ]
  },
  {
   "cell_type": "code",
   "execution_count": 61,
   "metadata": {},
   "outputs": [],
   "source": [
    "#Load fMRI Resting State Data\n",
    "with open(\"/Users/lakrama/Neuro Project Codes/LSR-Tensor-Ridge-Regression/Data_Sets/HCP/Resting State FMRI/fmri_rs.npy\", \"rb\") as f:\n",
    "  fmri_rs = np.load(f)\n",
    "\n",
    "#Loading Structural FMRI data \n",
    "dMRI_streamlog = (scipy.io.loadmat(\"/Users/lakrama/Neuro Project Codes/LSR-Tensor-Ridge-Regression/Data_Sets/HCP/Tactography/features_schaefer_streamcount_log.mat\")['features_schaefer_streamcount_log'])\n",
    "\n",
    "#Take the Transpose so that each Sample is a Row\n",
    "fmri_rs = fmri_rs.T\n",
    "dMRI_streamlog = dMRI_streamlog.T\n",
    "\n",
    "#Get Split to divide into train + test(loaded data is in the form of features * sampels so need to transpose)\n",
    "mat_file = scipy.io.loadmat(\"/Users/lakrama/Neuro Project Codes/LSR-Tensor-Ridge-Regression/Data_Sets/HCP/Resting State FMRI/MMP_HCP_60_splits.mat\")\n",
    "seed_1 = mat_file['folds']['seed_1']\n",
    "subject_lists = seed_1[0, 0]['sub_fold'][0, 0]['subject_list']\n",
    "test_subjects = [int(item[0]) for item in subject_lists[0,0].flatten()]\n",
    "\n",
    "#Get HCP test subjects\n",
    "HCP_753_Subjects = []\n",
    "with open('/Users/lakrama/Neuro Project Codes/LSR-Tensor-Ridge-Regression/Data_Sets/HCP/Resting State FMRI/MMP_HCP_753_subs.txt', 'r') as file:\n",
    "    HCP_753_Subjects = [int(re.sub('\\n', '', line)) for line in file.readlines()]\n",
    "\n",
    "#Put the HCP test subjects into a dataframe\n",
    "df = pd.read_csv(\"/Users/lakrama/Neuro Project Codes/LSR-Tensor-Ridge-Regression/Data_Sets/HCP/Resting State FMRI/MMP_HCP_componentscores.csv\")\n",
    "df['Subject'] = pd.to_numeric(df['Subject'], errors='coerce')\n",
    "df = df[df['Subject'].isin(HCP_753_Subjects)].reset_index(drop = True)\n",
    "\n",
    "#Split all our data into a Train and Test Set\n",
    "df_train, df_test = df[~df['Subject'].isin(test_subjects)], df[df['Subject'].isin(test_subjects)]\n",
    "\n",
    "#Create Train and Test Arrays corresponding to Training and Test Subjects\n",
    "train_subjects = df_train.index.to_list()\n",
    "test_subjects = df_test.index.to_list()\n",
    "\n",
    "#Reshape Labels into Column Vectors\n",
    "\n",
    "# Assuming fmri_rs and dMRI_streamlog are numpy arrays or can be converted to numpy arrays\n",
    "X_train_fmri = fmri_rs[train_subjects]\n",
    "Y_train_fmri = df_train[\"varimax_cog\"].to_numpy().reshape((-1, 1))\n",
    "X_test_fmri = fmri_rs[test_subjects]\n",
    "Y_test_fmri = df_test[\"varimax_cog\"].to_numpy().reshape((-1, 1))\n",
    "\n",
    "X_train_structural = dMRI_streamlog[train_subjects]\n",
    "X_test_structural = dMRI_streamlog[test_subjects]\n",
    "\n",
    "\n",
    "\n"
   ]
  },
  {
   "cell_type": "markdown",
   "metadata": {},
   "source": [
    "#### 2. Standardizing before connecting "
   ]
  },
  {
   "cell_type": "code",
   "execution_count": 12,
   "metadata": {},
   "outputs": [
    {
     "name": "stdout",
     "output_type": "stream",
     "text": [
      "norm_mean_fmri:32.032305596871694 | variance: 2.1409271816556177\n",
      "norm_mean_fmri:464.2367000931545 | variance: 194.81840066698234\n"
     ]
    }
   ],
   "source": [
    "# scalers\n",
    "\n",
    "scaler_fmri = StandardScaler()\n",
    "scaler_dmri = StandardScaler() \n",
    "\n",
    "#fmri\n",
    "\n",
    "X_train_fmri_std = scaler_fmri.fit_transform(X_train_fmri)\n",
    "X_test_fmri_std = scaler_fmri.transform(X_test_fmri)\n",
    "\n",
    "#dmri\n",
    "\n",
    "X_train_dmri_std = scaler_dmri.fit_transform(X_train_structural)\n",
    "X_test_dmri_std = scaler_dmri.transform(X_test_structural)\n",
    "\n",
    "print(f\"norm_mean_fmri:{np.linalg.norm(scaler_fmri.mean_)} | variance: {np.linalg.norm(scaler_fmri.var_)}\")\n",
    "print(f\"norm_mean_fmri:{np.linalg.norm(scaler_dmri.mean_)} | variance: {np.linalg.norm(scaler_dmri.var_)}\")\n"
   ]
  },
  {
   "cell_type": "markdown",
   "metadata": {},
   "source": [
    "#### 3. Concatanating the vectors"
   ]
  },
  {
   "cell_type": "code",
   "execution_count": 62,
   "metadata": {},
   "outputs": [
    {
     "name": "stdout",
     "output_type": "stream",
     "text": [
      "X_train_combined shape: (677, 159600)\n",
      "X_test_combined shape: (76, 159600)\n",
      "Y_train_combined shape: (677, 1)\n",
      "Y_test_combined shape: (76, 1)\n"
     ]
    }
   ],
   "source": [
    "# Check if number of samples match\n",
    "assert X_train_fmri.shape[0] == X_train_structural.shape[0], \"Number of training samples do not match\"\n",
    "assert X_test_fmri.shape[0] == X_test_structural.shape[0], \"Number of testing samples do not match\"\n",
    "\n",
    "# Concatenate along the features axis (axis=1)\n",
    "X_train_combined = np.concatenate((X_train_fmri, X_train_structural), axis=1)\n",
    "X_test_combined = np.concatenate((X_test_fmri, X_test_structural), axis=1)\n",
    "\n",
    "# The target variables remain the same\n",
    "Y_train_combined = Y_train_fmri\n",
    "Y_test_combined = Y_test_fmri\n",
    "\n",
    "# Verify the shapes\n",
    "print(\"X_train_combined shape:\", X_train_combined.shape)\n",
    "print(\"X_test_combined shape:\", X_test_combined.shape)\n",
    "print(\"Y_train_combined shape:\", Y_train_combined.shape)\n",
    "print(\"Y_test_combined shape:\", Y_test_combined.shape)\n",
    "\n",
    "X_train = X_train_combined\n",
    "X_test = X_test_combined\n",
    "Y_train = Y_train_combined\n",
    "Y_test = Y_test_combined"
   ]
  },
  {
   "cell_type": "markdown",
   "metadata": {},
   "source": [
    "### Preprocessing\n",
    "\n",
    "1. Transforming to kernel hiblert space."
   ]
  },
  {
   "cell_type": "code",
   "execution_count": 63,
   "metadata": {},
   "outputs": [],
   "source": [
    "#Row Wise Normalization of Samples\n",
    "def normalize_rows(matrix: np.ndarray):\n",
    "    \"\"\"\n",
    "    Normalize each row of the given matrix by the norm of the row.\n",
    "    \n",
    "    Parameters:\n",
    "    matrix (numpy.ndarray): The input matrix to be normalized.\n",
    "    \n",
    "    Returns:\n",
    "    numpy.ndarray: The row-normalized matrix.\n",
    "    \"\"\"\n",
    "    # Calculate the L2 norm for each row. Adding a small epsilon to avoid division by zero.\n",
    "    row_norms = np.linalg.norm(matrix, axis=1, keepdims=True)\n",
    "    epsilon = 1e-10  # Small value to prevent division by zero\n",
    "    row_norms[row_norms == 0] = epsilon\n",
    "    \n",
    "    # Normalize each row by its norm\n",
    "    normalized_matrix = matrix / row_norms\n",
    "    return normalized_matrix\n",
    "\n",
    "#Preprocess Data\n",
    "X_train = normalize_rows(X_train)\n",
    "X_test = normalize_rows(X_test)"
   ]
  },
  {
   "cell_type": "markdown",
   "metadata": {},
   "source": [
    "2. Removing the intercept from the data"
   ]
  },
  {
   "cell_type": "code",
   "execution_count": 64,
   "metadata": {},
   "outputs": [],
   "source": [
    "\n",
    "def LRR(X_train,Y_train,X_validatioon,Y_validation,alpha,Y_train_mean = None):\n",
    "\n",
    "    #model \n",
    "    ridge_regression = Ridge(alpha=alpha,fit_intercept=False)\n",
    "    #fitting model\n",
    "    ridge_regression.fit(X_train,Y_train)\n",
    "    #testing \n",
    "\n",
    "    if Y_train_mean is not None:\n",
    "        Y_predicted = ridge_regression.predict(X_validatioon).flatten().reshape(-1,1) + Y_train_mean\n",
    "    else:\n",
    "        Y_predicted = ridge_regression.predict(X_validatioon).flatten().reshape(-1,1) \n",
    "\n",
    "    #error matrices \n",
    "\n",
    "    #nmse\n",
    "    nmse    = (np.linalg.norm(Y_validation - Y_predicted)**2/(np.linalg.norm(Y_validation)**2))\n",
    "    #r2\n",
    "    numerator = np.sum((Y_validation - Y_predicted)**2)\n",
    "    denominator = np.sum((Y_validation - np.mean(Y_validation))**2)\n",
    "    r2 = 1 - (numerator / denominator)\n",
    "    #correlation\n",
    "    corr    = np.corrcoef(Y_validation.flatten(), Y_predicted.flatten())[0,1]\n",
    "    \n",
    "    return nmse,r2,corr"
   ]
  },
  {
   "cell_type": "code",
   "execution_count": 65,
   "metadata": {},
   "outputs": [
    {
     "name": "stdout",
     "output_type": "stream",
     "text": [
      "Sample mean for each feature (across samples): [0.00066526 0.00072132 0.00040562 ... 0.00866552 0.01321171 0.01209856]\n",
      "Sample variance for each feature (across samples): None\n",
      "Response Average: 1.127096656182391\n"
     ]
    }
   ],
   "source": [
    "#number of samples in train and test\n",
    "n_train = X_train.shape[0]\n",
    "n_test = X_test.shape[0]\n",
    "\n",
    "\n",
    "\n",
    "# Initialize StandardScaler\n",
    "scaler = StandardScaler(with_std = False) #standard scalar only\n",
    "\n",
    "# Fit scaler on train data and transform train data\n",
    "X_train_scaled = scaler.fit_transform(X_train)\n",
    "\n",
    "# Transform test data using the scaler fitted on train data\n",
    "X_test_scaled = scaler.transform(X_test)\n",
    "\n",
    "\n",
    "#average response value\n",
    "Y_train_mean = np.mean(Y_train)\n",
    "\n",
    "# Mean centering y_train and y_test\n",
    "Y_train = Y_train - Y_train_mean\n",
    "\n",
    "#printing the outcomes\n",
    "print(\"Sample mean for each feature (across samples):\",scaler.mean_)\n",
    "print(\"Sample variance for each feature (across samples):\",scaler.var_)\n",
    "print('Response Average:',Y_train_mean)"
   ]
  },
  {
   "cell_type": "markdown",
   "metadata": {},
   "source": [
    "### K-Fold Cross Validation"
   ]
  },
  {
   "cell_type": "code",
   "execution_count": 76,
   "metadata": {},
   "outputs": [
    {
     "name": "stdout",
     "output_type": "stream",
     "text": [
      "fold = 0,alpha = 0.07,nmse = 0.9684169581248337,r2 = 0.021622774881822293, corr = 0.25158122853477194\n",
      "fold = 0,alpha = 0.08,nmse = 0.9620609140461959,r2 = 0.028044191520815942, corr = 0.2535343635021597\n",
      "fold = 0,alpha = 0.09,nmse = 0.9566983241745317,r2 = 0.03346193617518933, corr = 0.255273153436112\n",
      "fold = 0,alpha = 0.1,nmse = 0.952125724453249,r2 = 0.0380815655500687, corr = 0.2568335449679549\n",
      "fold = 0,alpha = 0.12,nmse = 0.9447808844125837,r2 = 0.04550194801821317, corr = 0.25952599255564207\n",
      "fold = 0,alpha = 0.14,nmse = 0.9391922353448583,r2 = 0.05114807691049139, corr = 0.2617760200441947\n",
      "fold = 0,alpha = 0.16,nmse = 0.934848253765302,r2 = 0.055536736782784035, corr = 0.2636925648539226\n",
      "fold = 0,alpha = 0.18,nmse = 0.931417643419906,r2 = 0.059002631304798214, corr = 0.26535087268885277\n",
      "fold = 0,alpha = 2.0,nmse = 0.9381905654400596,r2 = 0.0521600490922246, corr = 0.28800010340894777\n",
      "fold = 0,alpha = 2.5,nmse = 0.9436932535714087,r2 = 0.04660076525330381, corr = 0.28868954811124614\n",
      "fold = 0,alpha = 3.0,nmse = 0.9483374598456688,r2 = 0.04190879284476079, corr = 0.28909398442240825\n",
      "fold = 0,alpha = 3.5,nmse = 0.9522986418620868,r2 = 0.03790686966807888, corr = 0.28934095298250806\n",
      "fold = 0,alpha = 4.0,nmse = 0.9557140488129815,r2 = 0.034456334909026554, corr = 0.28949533941952715\n",
      "fold = 1,alpha = 0.07,nmse = 0.999231161359669,r2 = 0.0005733330320105701, corr = 0.21702220196941424\n",
      "fold = 1,alpha = 0.08,nmse = 0.9946262222121427,r2 = 0.005179173163677775, corr = 0.21737147368843096\n",
      "fold = 1,alpha = 0.09,nmse = 0.9907637113584302,r2 = 0.009042439740953645, corr = 0.21753751671216917\n",
      "fold = 1,alpha = 0.1,nmse = 0.9874984696456486,r2 = 0.012308320317986343, corr = 0.21755001803613305\n",
      "fold = 1,alpha = 0.12,nmse = 0.9823444406968804,r2 = 0.01746335768362972, corr = 0.21720712755991692\n",
      "fold = 1,alpha = 0.14,nmse = 0.9785448175411837,r2 = 0.021263724258531402, corr = 0.21649091440596022\n",
      "fold = 1,alpha = 0.16,nmse = 0.9757086964066057,r2 = 0.02410040029732996, corr = 0.2155051007355464\n",
      "fold = 1,alpha = 0.18,nmse = 0.9735771108847429,r2 = 0.02623240287676676, corr = 0.21432411412862443\n",
      "fold = 1,alpha = 2.0,nmse = 0.981736790662885,r2 = 0.018071126608021792, corr = 0.13518425415934532\n",
      "fold = 1,alpha = 2.5,nmse = 0.9835697758248331,r2 = 0.016237782811462598, corr = 0.12753918005736517\n",
      "fold = 1,alpha = 3.0,nmse = 0.9849612200144935,r2 = 0.014846066377347311, corr = 0.12189132262910546\n",
      "fold = 1,alpha = 3.5,nmse = 0.9860742056523192,r2 = 0.013732862977163474, corr = 0.1175533195208462\n",
      "fold = 1,alpha = 4.0,nmse = 0.9869979642644203,r2 = 0.012808923626113855, corr = 0.11411895252314518\n",
      "fold = 2,alpha = 0.07,nmse = 0.7011543796666617,r2 = 0.2852078683104833, corr = 0.5434287801585861\n",
      "fold = 2,alpha = 0.08,nmse = 0.7040111019772413,r2 = 0.282295581531365, corr = 0.5416635126589499\n",
      "fold = 2,alpha = 0.09,nmse = 0.7069947063920476,r2 = 0.2792539447369239, corr = 0.5398861921055708\n",
      "fold = 2,alpha = 0.1,nmse = 0.7100408124367981,r2 = 0.27614859062915287, corr = 0.5381150333654565\n",
      "fold = 2,alpha = 0.12,nmse = 0.7161619698832393,r2 = 0.26990837405712054, corr = 0.5346347610165921\n",
      "fold = 2,alpha = 0.14,nmse = 0.7221715648987665,r2 = 0.26378188985291207, corr = 0.531276088131359\n",
      "fold = 2,alpha = 0.16,nmse = 0.7279779947897624,r2 = 0.257862522421643, corr = 0.5280596440199619\n",
      "fold = 2,alpha = 0.18,nmse = 0.7335433284965205,r2 = 0.2521889405983241, corr = 0.5249905283807619\n",
      "fold = 2,alpha = 2.0,nmse = 0.888728543867862,r2 = 0.09398530653600334, corr = 0.43934985176398567\n",
      "fold = 2,alpha = 2.5,nmse = 0.9021764723722391,r2 = 0.08027581008099771, corr = 0.4324679078571984\n",
      "fold = 2,alpha = 3.0,nmse = 0.9125859450950742,r2 = 0.0696638686696689, corr = 0.42733091280398244\n",
      "fold = 2,alpha = 3.5,nmse = 0.9209409863334814,r2 = 0.061146318312222614, corr = 0.4233452075467565\n",
      "fold = 2,alpha = 4.0,nmse = 0.9278258835952091,r2 = 0.0541275068594389, corr = 0.4201613776243619\n",
      "fold = 3,alpha = 0.07,nmse = 0.7839732399436273,r2 = 0.21480603817638522, corr = 0.46926505858637735\n",
      "fold = 3,alpha = 0.08,nmse = 0.7806050457579993,r2 = 0.21817947696492657, corr = 0.4719494985059695\n",
      "fold = 3,alpha = 0.09,nmse = 0.7780529104071363,r2 = 0.2207355862364605, corr = 0.4742592812985645\n",
      "fold = 3,alpha = 0.1,nmse = 0.7761444960026126,r2 = 0.22264697222611096, corr = 0.47625669098520507\n",
      "fold = 3,alpha = 0.12,nmse = 0.7737735510099722,r2 = 0.22502160900857393, corr = 0.4794981329687359\n",
      "fold = 3,alpha = 0.14,nmse = 0.7727787090333305,r2 = 0.22601800005003858, corr = 0.481955668552385\n",
      "fold = 3,alpha = 0.16,nmse = 0.7727205268133903,r2 = 0.22607627286530207, corr = 0.4838166211371579\n",
      "fold = 3,alpha = 0.18,nmse = 0.773314602186506,r2 = 0.22548127245958416, corr = 0.48521179738058284\n",
      "fold = 3,alpha = 2.0,nmse = 0.8845691748544774,r2 = 0.11405346570123176, corr = 0.4387962817289805\n",
      "fold = 3,alpha = 2.5,nmse = 0.8975764740546909,r2 = 0.10102591288275131, corr = 0.43035641841818095\n",
      "fold = 3,alpha = 3.0,nmse = 0.9077433218836782,r2 = 0.0908432342919947, corr = 0.42379353704916445\n",
      "fold = 3,alpha = 3.5,nmse = 0.9159545894552077,r2 = 0.0826191809856005, corr = 0.4185611821605795\n",
      "fold = 3,alpha = 4.0,nmse = 0.9227510343833591,r2 = 0.07581215333777536, corr = 0.4142989103421966\n",
      "fold = 4,alpha = 0.07,nmse = 0.8626160163420851,r2 = 0.1348490850943106, corr = 0.3703438136403996\n",
      "fold = 4,alpha = 0.08,nmse = 0.8604014493655583,r2 = 0.1370701598362174, corr = 0.3718553171222454\n",
      "fold = 4,alpha = 0.09,nmse = 0.8587247307697614,r2 = 0.13875180566670464, corr = 0.37319159940796626\n",
      "fold = 4,alpha = 0.1,nmse = 0.8574727410796933,r2 = 0.14000747447564688, corr = 0.3743756512977795\n",
      "fold = 4,alpha = 0.12,nmse = 0.8559241093937031,r2 = 0.14156065699788667, corr = 0.376359683895974\n",
      "fold = 4,alpha = 0.14,nmse = 0.8552863472436855,r2 = 0.14220029328695016, corr = 0.3779249006166637\n",
      "fold = 4,alpha = 0.16,nmse = 0.8552699746636828,r2 = 0.14221671397970392, corr = 0.3791557994561131\n",
      "fold = 4,alpha = 0.18,nmse = 0.8556872860247278,r2 = 0.14179817630016978, corr = 0.3801150512213149\n",
      "fold = 4,alpha = 2.0,nmse = 0.9298707914011424,r2 = 0.06739667397301574, corr = 0.3408703237415674\n",
      "fold = 4,alpha = 2.5,nmse = 0.9381577009864169,r2 = 0.05908541232980746, corr = 0.33263763626464926\n",
      "fold = 4,alpha = 3.0,nmse = 0.9445575937544809,r2 = 0.05266671272454415, corr = 0.32612432679334274\n",
      "fold = 4,alpha = 3.5,nmse = 0.9496779147040852,r2 = 0.04753134510994128, corr = 0.3208747356792138\n",
      "fold = 4,alpha = 4.0,nmse = 0.9538845009479346,r2 = 0.04331239731793446, corr = 0.31656746999847357\n",
      "fold = 5,alpha = 0.07,nmse = 0.9046949801023092,r2 = 0.0749169063211399, corr = 0.3246148619835504\n",
      "fold = 5,alpha = 0.08,nmse = 0.9045884926595552,r2 = 0.07502579355401695, corr = 0.32192528274516946\n",
      "fold = 5,alpha = 0.09,nmse = 0.9045793351388887,r2 = 0.075035157447633, corr = 0.3195392908477648\n",
      "fold = 5,alpha = 0.1,nmse = 0.9046373730382508,r2 = 0.07497581161210465, corr = 0.31741457237533827\n",
      "fold = 5,alpha = 0.12,nmse = 0.904881762271519,r2 = 0.07472591484806168, corr = 0.3138141889608144\n",
      "fold = 5,alpha = 0.14,nmse = 0.9052270225919674,r2 = 0.07437287377633017, corr = 0.3109059942841828\n",
      "fold = 5,alpha = 0.16,nmse = 0.9056273462684555,r2 = 0.07396352844639775, corr = 0.3085340885345922\n",
      "fold = 5,alpha = 0.18,nmse = 0.9060592724535239,r2 = 0.07352186841698238, corr = 0.30658437561660384\n",
      "fold = 5,alpha = 2.0,nmse = 0.9404317694552566,r2 = 0.03837475633702547, corr = 0.30026191213769426\n",
      "fold = 5,alpha = 2.5,nmse = 0.9462136065732222,r2 = 0.03246262032889824, corr = 0.30082047791521005\n",
      "fold = 5,alpha = 3.0,nmse = 0.95103808929596,r2 = 0.027529413556770632, corr = 0.30118866691081647\n",
      "fold = 5,alpha = 3.5,nmse = 0.9551270222609731,r2 = 0.023348332816506168, corr = 0.3014411831533135\n",
      "fold = 5,alpha = 4.0,nmse = 0.9586383986726366,r2 = 0.019757824385028933, corr = 0.30162123428647686\n",
      "fold = 6,alpha = 0.07,nmse = 0.8190340847003111,r2 = 0.10747539336606848, corr = 0.48450290263462426\n",
      "fold = 6,alpha = 0.08,nmse = 0.8189989568742689,r2 = 0.10751367315161853, corr = 0.4873637128405162\n",
      "fold = 6,alpha = 0.09,nmse = 0.8193165651112602,r2 = 0.1071675664729348, corr = 0.4898205230614426\n",
      "fold = 6,alpha = 0.1,nmse = 0.819902589935859,r2 = 0.10652895864717626, corr = 0.4919398159962801\n",
      "fold = 6,alpha = 0.12,nmse = 0.8216472889009717,r2 = 0.10462771084000833, corr = 0.4953624371908914\n",
      "fold = 6,alpha = 0.14,nmse = 0.8238969299510869,r2 = 0.10217621336166305, corr = 0.4979336848273882\n",
      "fold = 6,alpha = 0.16,nmse = 0.8264507672535755,r2 = 0.09939322462360012, corr = 0.49985485270550445\n",
      "fold = 6,alpha = 0.18,nmse = 0.8291828850507057,r2 = 0.09641595858826335, corr = 0.5012666840758745\n",
      "fold = 6,alpha = 2.0,nmse = 0.9449792296067234,r2 = -0.029770593113456645, corr = 0.4324867758421648\n",
      "fold = 6,alpha = 2.5,nmse = 0.9550370844159648,r2 = -0.04073092196287709, corr = 0.4195286342747657\n",
      "fold = 6,alpha = 3.0,nmse = 0.9625694996086498,r2 = -0.04893920783575911, corr = 0.40931879421212697\n",
      "fold = 6,alpha = 3.5,nmse = 0.9684457531238911,r2 = -0.05534272748792479, corr = 0.401105392589092\n",
      "fold = 6,alpha = 4.0,nmse = 0.9731718480664272,r2 = -0.06049288681376641, corr = 0.3943725245155989\n",
      "fold = 7,alpha = 0.07,nmse = 0.8817332383809862,r2 = 0.10213948126127148, corr = 0.3898714769436305\n",
      "fold = 7,alpha = 0.08,nmse = 0.8800865799792218,r2 = 0.10381625775379477, corr = 0.3882345010449957\n",
      "fold = 7,alpha = 0.09,nmse = 0.8789159185308274,r2 = 0.10500833110383978, corr = 0.38662266830218533\n",
      "fold = 7,alpha = 0.1,nmse = 0.8781111917175851,r2 = 0.10582777671678656, corr = 0.3850439219580638\n",
      "fold = 7,alpha = 0.12,nmse = 0.8772976617794973,r2 = 0.10665618646752051, corr = 0.38200139142389444\n",
      "fold = 7,alpha = 0.14,nmse = 0.8772120111016347,r2 = 0.1067434037331384, corr = 0.3791208552776998\n",
      "fold = 7,alpha = 0.16,nmse = 0.8775972554824206,r2 = 0.10635111306684952, corr = 0.3764004092147301\n",
      "fold = 7,alpha = 0.18,nmse = 0.8782931163230989,r2 = 0.10564252463195234, corr = 0.37383176929575157\n",
      "fold = 7,alpha = 2.0,nmse = 0.9384769591283804,r2 = 0.044357893443429885, corr = 0.3036321966184705\n",
      "fold = 7,alpha = 2.5,nmse = 0.945146525857095,r2 = 0.037566337469196576, corr = 0.2977775672192298\n",
      "fold = 7,alpha = 3.0,nmse = 0.9504312376456301,r2 = 0.03218496602793053, corr = 0.29337793144088026\n",
      "fold = 7,alpha = 3.5,nmse = 0.9547577733686703,r2 = 0.027779296104719298, corr = 0.28994632283640637\n",
      "fold = 7,alpha = 4.0,nmse = 0.9583843693025272,r2 = 0.024086368170634143, corr = 0.28719269501765005\n",
      "fold = 8,alpha = 0.07,nmse = 0.8845392387558237,r2 = 0.09370654808273704, corr = 0.37399570775189905\n",
      "fold = 8,alpha = 0.08,nmse = 0.8835756818972585,r2 = 0.09469380250086312, corr = 0.3745247015760286\n",
      "fold = 8,alpha = 0.09,nmse = 0.8828781745474538,r2 = 0.09540846423218607, corr = 0.3749338755652915\n",
      "fold = 8,alpha = 0.1,nmse = 0.8823893028889226,r2 = 0.09590935912021592, corr = 0.37525297577742855\n",
      "fold = 8,alpha = 0.12,nmse = 0.881878355441984,r2 = 0.09643287272497769, corr = 0.37569820002924825\n",
      "fold = 8,alpha = 0.14,nmse = 0.8818112005158711,r2 = 0.0965016792483443, corr = 0.37596657146878404\n",
      "fold = 8,alpha = 0.16,nmse = 0.8820468758921072,r2 = 0.09626020771050581, corr = 0.3761165354744898\n",
      "fold = 8,alpha = 0.18,nmse = 0.8824945968816552,r2 = 0.0958014755442721, corr = 0.3761825819970585\n",
      "fold = 8,alpha = 2.0,nmse = 0.9369992629947551,r2 = 0.039956330599972834, corr = 0.3537792124649984\n",
      "fold = 8,alpha = 2.5,nmse = 0.9440740338427945,r2 = 0.0327075639964558, corr = 0.3494643463217073\n",
      "fold = 8,alpha = 3.0,nmse = 0.9497121724022608,r2 = 0.02693076198071509, corr = 0.34598400687144537\n",
      "fold = 8,alpha = 3.5,nmse = 0.9543333983395601,r2 = 0.022195882369613118, corr = 0.34313557752607565\n",
      "fold = 8,alpha = 4.0,nmse = 0.9582028777362455,r2 = 0.01823123763041823, corr = 0.34076946382449425\n",
      "fold = 9,alpha = 0.07,nmse = 0.8611683034210034,r2 = 0.11757114604741936, corr = 0.3591390260798931\n",
      "fold = 9,alpha = 0.08,nmse = 0.8580560771962399,r2 = 0.12076020701244738, corr = 0.3630737552749856\n",
      "fold = 9,alpha = 0.09,nmse = 0.855677628158765,r2 = 0.12319737527559149, corr = 0.3663729329297269\n",
      "fold = 9,alpha = 0.1,nmse = 0.8538759627996847,r2 = 0.12504352020649945, corr = 0.3691522112101445\n",
      "fold = 9,alpha = 0.12,nmse = 0.8515616267836544,r2 = 0.12741499262388178, corr = 0.37348960044538937\n",
      "fold = 9,alpha = 0.14,nmse = 0.8504656924175324,r2 = 0.1285379834525766, corr = 0.3765999928222736\n",
      "fold = 9,alpha = 0.16,nmse = 0.8501916164957971,r2 = 0.12881882576940573, corr = 0.37881757006407296\n",
      "fold = 9,alpha = 0.18,nmse = 0.8504844734417287,r2 = 0.1285187387618557, corr = 0.3803694199764875\n",
      "fold = 9,alpha = 2.0,nmse = 0.9290000653968767,r2 = 0.04806475136919841, corr = 0.33630679160837135\n",
      "fold = 9,alpha = 2.5,nmse = 0.9376567965221457,r2 = 0.039194302589905194, corr = 0.3298471503520927\n",
      "fold = 9,alpha = 3.0,nmse = 0.9443776939140729,r2 = 0.032307479468883016, corr = 0.3249481484279388\n",
      "fold = 9,alpha = 3.5,nmse = 0.9497831728275649,r2 = 0.026768549919631512, corr = 0.3211083221504622\n",
      "fold = 9,alpha = 4.0,nmse = 0.9542452757841304,r2 = 0.022196286423008638, corr = 0.31801793717191473\n",
      "The best alpha value is 0.14\n"
     ]
    }
   ],
   "source": [
    "\n",
    "# Number of folds we are using \n",
    "n_splits = 10\n",
    "kfold = KFold(n_splits=n_splits, shuffle=True, random_state=42)\n",
    "\n",
    "#the regularization coefficients to search over\n",
    "alphas = [0.07,0.08,0.09,0.1,0.12,0.14,0.16,0.18,2.0,2.5,3.0,3.5,4.0]\n",
    "#[0, 0.00001, 0.0001, 0.001, 0.004, 0.007, 0.01, 0.04, 0.07, 0.1, 0.4, 0.7, 1, 1.5, 2, 2.5, 3,\n",
    "#3.5, 4, 5, 10, 15, 20]\n",
    "k_fold_results = np.zeros(shape=[n_splits,len(alphas),3])\n",
    "\n",
    "#iterating over the folds\n",
    "for fold,(train_ids,validation_ids) in enumerate(kfold.split(X_train)):\n",
    "\n",
    "    #the training and validatiion data \n",
    "    X_train_fold,Y_train_fold = X_train[train_ids],Y_train[train_ids]\n",
    "    X_validation_fold,Y_validation_fold = X_train[validation_ids],Y_train[validation_ids]\n",
    "    \n",
    "    #iterating over the alpha values \n",
    "    for alpha_idx,alpha in enumerate(alphas):\n",
    "        nmse,r2,corr = LRR(X_train_fold,Y_train_fold,X_validation_fold,Y_validation_fold,alpha)\n",
    "        k_fold_results[fold,alpha_idx,0] = nmse\n",
    "        k_fold_results[fold,alpha_idx,1] = r2\n",
    "        k_fold_results[fold,alpha_idx,2] = corr\n",
    "\n",
    "        print(f\"fold = {fold},alpha = {alpha},nmse = {nmse},r2 = {r2}, corr = {corr}\")\n",
    "\n",
    "#Choosing the best lambda\n",
    "\n",
    "#array to hold all the sums\n",
    "nmse_sum = np.zeros(len(alphas))\n",
    "\n",
    "# Iterate over the folds and alpha values to accumulate nmse values\n",
    "for alpha_idx in range(len(alphas)):\n",
    "    for fold in range(n_splits):\n",
    "        nmse_sum[alpha_idx] += k_fold_results[fold, alpha_idx, 0]\n",
    "\n",
    "#best lambda \n",
    "\n",
    "best_alpha_idx = np.argmin(nmse_sum)\n",
    "best_alpha = alphas[best_alpha_idx]        \n",
    "print(f\"The best alpha value is {best_alpha}\")\n",
    "        \n",
    "\n"
   ]
  },
  {
   "cell_type": "code",
   "execution_count": 78,
   "metadata": {},
   "outputs": [
    {
     "data": {
      "image/png": "[encoded data removed]",
      "text/plain": [
       "<Figure size 640x480 with 1 Axes>"
      ]
     },
     "metadata": {},
     "output_type": "display_data"
    },
    {
     "name": "stdout",
     "output_type": "stream",
     "text": [
      "average performance metrics: [0.86065865 0.12127441 0.38099507]\n"
     ]
    }
   ],
   "source": [
    "average_nmse_accross_folds = nmse_sum/n_splits\n",
    "\n",
    "plt.figure()\n",
    "plt.plot(alphas, average_nmse_accross_folds)\n",
    "plt.xlabel('Alphas')\n",
    "plt.ylabel('Average NMSE Across Folds')\n",
    "plt.title('Average NMSE Across Folds vs Alphas')\n",
    "plt.grid(True)\n",
    "plt.show()\n",
    "\n",
    "\n",
    "average_results = np.mean(k_fold_results, axis=0)\n",
    "print(f'average performance metrics: {average_results[best_alpha_idx]}')"
   ]
  },
  {
   "cell_type": "markdown",
   "metadata": {},
   "source": [
    "### Training and Testing with best Lambda"
   ]
  },
  {
   "cell_type": "code",
   "execution_count": 79,
   "metadata": {},
   "outputs": [],
   "source": [
    "nmse_best,r2_best,corr_best =  LRR(X_train,Y_train,X_test,Y_test,best_alpha,Y_train_mean=Y_train_mean)"
   ]
  },
  {
   "cell_type": "markdown",
   "metadata": {},
   "source": [
    "### Reporting Errors"
   ]
  },
  {
   "cell_type": "code",
   "execution_count": 81,
   "metadata": {},
   "outputs": [
    {
     "name": "stdout",
     "output_type": "stream",
     "text": [
      "The best Lamda Values Selected After KFold CV: 0.14\n",
      "Testing Normalized Mean Squred Error: 0.9406235880659317\n",
      "Testing R2: -0.008409572666828291\n",
      "Testing Correlation: 0.25169340581203126\n"
     ]
    }
   ],
   "source": [
    "print(f\"The best Lamda Values Selected After KFold CV: {best_alpha}\")\n",
    "print(f\"Testing Normalized Mean Squred Error: {nmse_best}\")\n",
    "print(f\"Testing R2: {r2_best}\")\n",
    "print(f\"Testing Correlation: {corr_best}\")"
   ]
  },
  {
   "cell_type": "markdown",
   "metadata": {},
   "source": [
    "### Saving Stuff"
   ]
  },
  {
   "cell_type": "code",
   "execution_count": 82,
   "metadata": {},
   "outputs": [
    {
     "name": "stdout",
     "output_type": "stream",
     "text": [
      "Results saved to /Users/lakrama/Neuro Project Codes/LSR-Tensor-Ridge-Regression/Vector Regression Baseline/Experimental Results/Vector_Base_Line/with k-Fold cv std kernel map center/0.07_0.08_0.09_0.1_0.12_0.14_0.16_0.18_2.0_2.5_3.0_3.5_4.0results.txt\n"
     ]
    }
   ],
   "source": [
    "\n",
    "# Convert alphas list to a string for the file name\n",
    "alphas_str = '_'.join(map(str, alphas))\n",
    "\n",
    "# Define the content to write\n",
    "results = (\n",
    "    f\"The best Lambda Values Selected After KFold CV: {best_alpha}\\n\"\n",
    "    f\"Testing Normalized Mean Squared Error: {nmse_best}\\n\"\n",
    "    f\"Testing R2: {r2_best}\\n\"\n",
    "    f\"Testing Correlation: {corr_best}\\n\"\n",
    ")\n",
    "\n",
    "# Define the file path\n",
    "file_path = f'/Users/lakrama/Neuro Project Codes/LSR-Tensor-Ridge-Regression/Vector Regression Baseline/Experimental Results/Vector_Base_Line/with k-Fold cv std kernel map center/{alphas_str}results.txt'\n",
    "\n",
    "# Ensure the directory exists\n",
    "os.makedirs(os.path.dirname(file_path), exist_ok=True)\n",
    "\n",
    "# Write the results to a text file\n",
    "with open(file_path, 'w') as file:\n",
    "    file.write(results)\n",
    "\n",
    "print(f\"Results saved to {file_path}\")\n"
   ]
  },
  {
   "cell_type": "code",
   "execution_count": null,
   "metadata": {},
   "outputs": [],
   "source": []
  }
 ],
 "metadata": {
  "kernelspec": {
   "display_name": "torchtensor",
   "language": "python",
   "name": "python3"
  },
  "language_info": {
   "codemirror_mode": {
    "name": "ipython",
    "version": 3
   },
   "file_extension": ".py",
   "mimetype": "text/x-python",
   "name": "python",
   "nbconvert_exporter": "python",
   "pygments_lexer": "ipython3",
   "version": "3.12.2"
  }
 },
 "nbformat": 4,
 "nbformat_minor": 2
}
