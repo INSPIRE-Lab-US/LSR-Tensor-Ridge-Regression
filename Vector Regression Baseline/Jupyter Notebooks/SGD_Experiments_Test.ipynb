{
 "cells": [
  {
   "cell_type": "markdown",
   "metadata": {},
   "source": [
    "# Stochastic Gradient Descent(SGD) Experiments"
   ]
  },
  {
   "cell_type": "markdown",
   "metadata": {},
   "source": [
    "## Setting Path"
   ]
  },
  {
   "cell_type": "code",
   "execution_count": null,
   "metadata": {},
   "outputs": [],
   "source": [
    "import sys\n",
    "sys.path.append('../Code Files')\n",
    "sys.path.append('../Data')"
   ]
  },
  {
   "cell_type": "markdown",
   "metadata": {},
   "source": [
    "## Import Libraries"
   ]
  },
  {
   "cell_type": "code",
   "execution_count": null,
   "metadata": {},
   "outputs": [],
   "source": [
    "#Import External Files\n",
    "from SGD_Experiments_Data_Generation import generate_data\n",
    "from optimization_Test import SGD1, SGD2\n",
    "import matplotlib.pyplot as plt\n",
    "from datetime import datetime\n",
    "import numpy as np"
   ]
  },
  {
   "cell_type": "markdown",
   "metadata": {},
   "source": [
    "## Generate Data[No Intercept]"
   ]
  },
  {
   "cell_type": "code",
   "execution_count": null,
   "metadata": {},
   "outputs": [],
   "source": [
    "n_train = int(2e6)\n",
    "n_test = int(1e6)\n",
    "d = int(1e2)\n",
    "intercept = False\n",
    "# X_train, X_test, Y_train, Y_test, W, b = generate_data(n_train, n_test, d, intercept)\n",
    "# print(X_train.shape, X_test.shape, Y_train.shape, Y_test.shape, W.shape, b)"
   ]
  },
  {
   "cell_type": "markdown",
   "metadata": {},
   "source": [
    "## Save Data"
   ]
  },
  {
   "cell_type": "code",
   "execution_count": null,
   "metadata": {},
   "outputs": [],
   "source": [
    "# Get the current date and time\n",
    "# current_time = datetime.now()\n",
    "# formatted_time = current_time.strftime(\"%Y-%m-%d %H:%M:%S\")\n",
    "\n",
    "# np.save(f\"../Data/X_train_time={formatted_time}_train={n_train}_test={n_test}_d={d}_intercept={intercept}.npy\", X_train)\n",
    "# np.save(f\"../Data/X_test_time={formatted_time}_train={n_train}_test={n_test}_d={d}_intercept={intercept}.npy\", X_test)\n",
    "# np.save(f\"../Data/Y_train_time={formatted_time}_train={n_train}_test={n_test}_d={d}_intercept={intercept}.npy\", Y_train)\n",
    "# np.save(f\"../Data/Y_test_time={formatted_time}_train={n_train}_test={n_test}_d={d}_intercept={intercept}.npy\", Y_test)\n",
    "# np.save(f\"../Data/W_time={formatted_time}_train={n_train}_test={n_test}_d={d}_intercept={intercept}.npy\", W)\n",
    "# np.save(f\"../Data/b_time={formatted_time}_train={n_train}_test={n_test}_d={d}_intercept={intercept}.npy\", b)"
   ]
  },
  {
   "cell_type": "markdown",
   "metadata": {},
   "source": [
    "## Load Data"
   ]
  },
  {
   "cell_type": "code",
   "execution_count": null,
   "metadata": {},
   "outputs": [],
   "source": [
    "formatted_time = \"2024-04-21 16:35:13\"\n",
    "X_train = np.load(f\"../Data/X_train_time={formatted_time}_train={n_train}_test={n_test}_d={d}_intercept={intercept}.npy\")\n",
    "X_test = np.load(f\"../Data/X_test_time={formatted_time}_train={n_train}_test={n_test}_d={d}_intercept={intercept}.npy\")\n",
    "Y_train = np.load(f\"../Data/Y_train_time={formatted_time}_train={n_train}_test={n_test}_d={d}_intercept={intercept}.npy\")\n",
    "Y_test = np.load(f\"../Data/Y_test_time={formatted_time}_train={n_train}_test={n_test}_d={d}_intercept={intercept}.npy\")\n",
    "W = np.load(f\"../Data/W_time={formatted_time}_train={n_train}_test={n_test}_d={d}_intercept={intercept}.npy\")\n",
    "b = np.load(f\"../Data/b_time={formatted_time}_train={n_train}_test={n_test}_d={d}_intercept={intercept}.npy\")"
   ]
  },
  {
   "cell_type": "markdown",
   "metadata": {},
   "source": [
    "## Run SGD to Solve the Above Optimization[Least Squares, No Intercept]"
   ]
  },
  {
   "cell_type": "code",
   "execution_count": null,
   "metadata": {},
   "outputs": [],
   "source": [
    "#Solve Least Squares Optimization via SGD\n",
    "lr = 0.005\n",
    "epochs = 1000\n",
    "batch_size = 1\n",
    "W_estimated, b_estimated, losses = SGD1(X_train, Y_train, lr, epochs, batch_size, bias = intercept)"
   ]
  },
  {
   "cell_type": "code",
   "execution_count": null,
   "metadata": {},
   "outputs": [],
   "source": [
    "plt.plot(range(1, len(losses)+1), losses, label='Loss')\n",
    "plt.title('Loss as a function of Epoch')\n",
    "plt.xlabel('Epoch')\n",
    "plt.ylabel('Loss')\n",
    "plt.legend()\n",
    "plt.grid(True)\n",
    "plt.show()"
   ]
  },
  {
   "cell_type": "code",
   "execution_count": null,
   "metadata": {},
   "outputs": [],
   "source": [
    "#Solve Least Squares Optimization via SGD\n",
    "lr = 0.005\n",
    "epochs = 64\n",
    "batch_size = 16\n",
    "W_estimated, b_estimated, losses = SGD1(X_train, Y_train, lr, epochs, batch_size, bias = intercept)"
   ]
  },
  {
   "cell_type": "code",
   "execution_count": null,
   "metadata": {},
   "outputs": [],
   "source": [
    "plt.plot(range(1, len(losses)+1), losses, label='Loss')\n",
    "plt.title('Loss as a function of Epoch')\n",
    "plt.xlabel('Epoch')\n",
    "plt.ylabel('Loss')\n",
    "plt.legend()\n",
    "plt.grid(True)\n",
    "plt.show()"
   ]
  },
  {
   "cell_type": "code",
   "execution_count": null,
   "metadata": {},
   "outputs": [],
   "source": [
    "#Solve Least Squares Optimization via SGD\n",
    "lr = 0.005\n",
    "epochs = 32\n",
    "batch_size = 32\n",
    "W_estimated, b_estimated, losses = SGD1(X_train, Y_train, lr, epochs, batch_size, bias = intercept)"
   ]
  },
  {
   "cell_type": "code",
   "execution_count": null,
   "metadata": {},
   "outputs": [],
   "source": [
    "plt.plot(range(1, len(losses)+1), losses, label='Loss')\n",
    "plt.title('Loss as a function of Epoch')\n",
    "plt.xlabel('Epoch')\n",
    "plt.ylabel('Loss')\n",
    "plt.legend()\n",
    "plt.grid(True)\n",
    "plt.show()"
   ]
  },
  {
   "cell_type": "code",
   "execution_count": null,
   "metadata": {},
   "outputs": [],
   "source": [
    "#Solve Least Squares Optimization via SGD\n",
    "lr = 0.005\n",
    "epochs = 16\n",
    "batch_size = 64\n",
    "W_estimated, b_estimated, losses = SGD1(X_train, Y_train, lr, epochs, batch_size, bias = intercept)"
   ]
  },
  {
   "cell_type": "code",
   "execution_count": null,
   "metadata": {},
   "outputs": [],
   "source": [
    "plt.plot(range(1, len(losses)+1), losses, label='Loss')\n",
    "plt.title('Loss as a function of Epoch')\n",
    "plt.xlabel('Epoch')\n",
    "plt.ylabel('Loss')\n",
    "plt.legend()\n",
    "plt.grid(True)\n",
    "plt.show()"
   ]
  },
  {
   "cell_type": "code",
   "execution_count": null,
   "metadata": {},
   "outputs": [],
   "source": [
    "#Solve Least Squares Optimization via SGD\n",
    "lr = 0.005\n",
    "epochs = 10\n",
    "batch_size = 128\n",
    "W_estimated, b_estimated, losses = SGD1(X_train, Y_train, lr, epochs, batch_size, bias = intercept)"
   ]
  },
  {
   "cell_type": "code",
   "execution_count": null,
   "metadata": {},
   "outputs": [],
   "source": [
    "plt.plot(range(1, len(losses)+1), losses, label='Loss')\n",
    "plt.title('Loss as a function of Epoch')\n",
    "plt.xlabel('Epoch')\n",
    "plt.ylabel('Loss')\n",
    "plt.legend()\n",
    "plt.grid(True)\n",
    "plt.show()"
   ]
  },
  {
   "cell_type": "markdown",
   "metadata": {},
   "source": [
    "## Run SGD to Solve the Above Optimization[Ridge Regression, No Intercept]"
   ]
  },
  {
   "cell_type": "code",
   "execution_count": null,
   "metadata": {},
   "outputs": [],
   "source": [
    "#Solve Ridge Regression Optimization via SGD\n",
    "lr = 0.005\n",
    "epochs = 1000\n",
    "lamb = 0.1\n",
    "batch_size = 64\n",
    "\n",
    "W_estimated, b_estimated, losses = SGD2(X_train, Y_train, lamb, lr, epochs, batch_size = 64, bias = intercept)"
   ]
  },
  {
   "cell_type": "code",
   "execution_count": null,
   "metadata": {},
   "outputs": [],
   "source": [
    "plt.plot(range(1, len(losses)+1), losses, label='Loss')\n",
    "plt.title('Loss as a function of Epoch')\n",
    "plt.xlabel('Epoch')\n",
    "plt.ylabel('Loss')\n",
    "plt.legend()\n",
    "plt.grid(True)\n",
    "plt.show()"
   ]
  },
  {
   "cell_type": "code",
   "execution_count": null,
   "metadata": {},
   "outputs": [],
   "source": [
    "#Solve Ridge Regression Optimization via SGD\n",
    "lr = 0.005\n",
    "epochs = 64\n",
    "lamb = 0.1\n",
    "batch_size = 16\n",
    "\n",
    "W_estimated, b_estimated, losses = SGD2(X_train, Y_train, lamb, lr, epochs, batch_size = 64, bias = intercept)"
   ]
  },
  {
   "cell_type": "code",
   "execution_count": null,
   "metadata": {},
   "outputs": [],
   "source": [
    "plt.plot(range(1, len(losses)+1), losses, label='Loss')\n",
    "plt.title('Loss as a function of Epoch')\n",
    "plt.xlabel('Epoch')\n",
    "plt.ylabel('Loss')\n",
    "plt.legend()\n",
    "plt.grid(True)\n",
    "plt.show()"
   ]
  },
  {
   "cell_type": "code",
   "execution_count": null,
   "metadata": {},
   "outputs": [],
   "source": [
    "#Solve Ridge Regression Optimization via SGD\n",
    "lr = 0.005\n",
    "epochs = 32\n",
    "lamb = 0.1\n",
    "batch_size = 32\n",
    "\n",
    "W_estimated, b_estimated, losses = SGD2(X_train, Y_train, lamb, lr, epochs, batch_size = 64, bias = intercept)"
   ]
  },
  {
   "cell_type": "code",
   "execution_count": null,
   "metadata": {},
   "outputs": [],
   "source": [
    "plt.plot(range(1, len(losses)+1), losses, label='Loss')\n",
    "plt.title('Loss as a function of Epoch')\n",
    "plt.xlabel('Epoch')\n",
    "plt.ylabel('Loss')\n",
    "plt.legend()\n",
    "plt.grid(True)\n",
    "plt.show()"
   ]
  },
  {
   "cell_type": "code",
   "execution_count": null,
   "metadata": {},
   "outputs": [],
   "source": [
    "#Solve Ridge Regression Optimization via SGD\n",
    "lr = 0.005\n",
    "epochs = 16\n",
    "lamb = 0.1\n",
    "batch_size = 64\n",
    "\n",
    "W_estimated, b_estimated, losses = SGD2(X_train, Y_train, lamb, lr, epochs, batch_size = 64, bias = intercept)"
   ]
  },
  {
   "cell_type": "code",
   "execution_count": null,
   "metadata": {},
   "outputs": [],
   "source": [
    "plt.plot(range(1, len(losses)+1), losses, label='Loss')\n",
    "plt.title('Loss as a function of Epoch')\n",
    "plt.xlabel('Epoch')\n",
    "plt.ylabel('Loss')\n",
    "plt.legend()\n",
    "plt.grid(True)\n",
    "plt.show()"
   ]
  },
  {
   "cell_type": "code",
   "execution_count": null,
   "metadata": {},
   "outputs": [],
   "source": [
    "#Solve Ridge Regression Optimization via SGD\n",
    "lr = 0.005\n",
    "epochs = 10\n",
    "lamb = 0.1\n",
    "batch_size = 128\n",
    "\n",
    "W_estimated, b_estimated, losses = SGD2(X_train, Y_train, lamb, lr, epochs, batch_size = 64, bias = intercept)"
   ]
  },
  {
   "cell_type": "code",
   "execution_count": null,
   "metadata": {},
   "outputs": [],
   "source": [
    "plt.plot(range(1, len(losses)+1), losses, label='Loss')\n",
    "plt.title('Loss as a function of Epoch')\n",
    "plt.xlabel('Epoch')\n",
    "plt.ylabel('Loss')\n",
    "plt.legend()\n",
    "plt.grid(True)\n",
    "plt.show()"
   ]
  }
 ],
 "metadata": {
  "kernelspec": {
   "display_name": "neuroimaging",
   "language": "python",
   "name": "python3"
  },
  "language_info": {
   "codemirror_mode": {
    "name": "ipython",
    "version": 3
   },
   "file_extension": ".py",
   "mimetype": "text/x-python",
   "name": "python",
   "nbconvert_exporter": "python",
   "pygments_lexer": "ipython3",
   "version": "3.12.2"
  }
 },
 "nbformat": 4,
 "nbformat_minor": 2
}
