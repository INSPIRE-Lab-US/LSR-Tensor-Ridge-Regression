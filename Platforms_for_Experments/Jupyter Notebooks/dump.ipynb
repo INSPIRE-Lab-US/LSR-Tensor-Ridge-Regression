{
 "cells": [
  {
   "cell_type": "markdown",
   "metadata": {},
   "source": [
    "This code segment is to plot the sub problem level gradients after each BCD iteration."
   ]
  },
  {
   "cell_type": "code",
   "execution_count": null,
   "metadata": {},
   "outputs": [],
   "source": [
    "# Create a 2x3 grid of subplots\n",
    "fig, axs = plt.subplots(2, 3, figsize=(15, 10))\n",
    "\n",
    "# Plot data in each subplot\n",
    "axs[0, 0].plot(range(1, len(gradient_values_SGD) + 1), gradient_values_SGD[:, 0, 0], label='SGD',marker = 'o')\n",
    "axs[0, 0].set_title('Factor 1 1')\n",
    "axs[0, 0].set_yscale('log')\n",
    "\n",
    "axs[0, 1].plot(range(1, len(gradient_values_SGD) + 1), gradient_values_SGD[:, 0, 1], label='SGD',marker = 'o')\n",
    "axs[0, 1].set_title('Factor 1 2')\n",
    "axs[0, 1].set_yscale('log')\n",
    "\n",
    "axs[0, 2].plot(range(1, len(gradient_values_SGD) + 1), gradient_values_SGD[:, 1, 0], label='SGD',marker = 'o')\n",
    "axs[0, 2].set_title('Factor 2 1')\n",
    "axs[0, 2].set_yscale('log')\n",
    "\n",
    "axs[1, 0].plot(range(1, len(gradient_values_SGD) + 1), gradient_values_SGD[:, 1,1 ], label='SGD',marker = 'o')\n",
    "axs[1, 0].set_title('Factor 2 2')\n",
    "axs[1, 0].set_yscale('log')\n",
    "\n",
    "axs[1, 1].plot(range(1, len(gradient_values_SGD) + 1), gradient_values_SGD[:, 0,2 ], label='SGD',marker = 'o')\n",
    "axs[1, 1].set_title('Core')\n",
    "axs[1, 1].set_yscale('log')\n",
    "\n",
    "\n",
    "# Hide the empty subplot\n",
    "axs[1, 2].axis('off')\n",
    "\n",
    "\n",
    "# Add some spacing between subplots\n",
    "plt.tight_layout()\n",
    "\n",
    "# Show the plot\n",
    "plt.show()\n"
   ]
  },
  {
   "cell_type": "markdown",
   "metadata": {},
   "source": [
    "### Epoch LEvel Gradients"
   ]
  },
  {
   "cell_type": "code",
   "execution_count": null,
   "metadata": {},
   "outputs": [],
   "source": [
    "#Factor Matrices \n",
    "\n",
    "for s in range(separation_rank):\n",
    "        for k in range(mode):\n",
    "                # Number of iterations\n",
    "                max_iter = sgd_epoch_level_gradients.shape[0]\n",
    "\n",
    "                # Define the number of rows and columns for the subplots\n",
    "                rows = 5\n",
    "                columns = int(np.ceil(max_iter / rows))\n",
    "\n",
    "                # Create a figure and a set of subplots\n",
    "                fig, axes = plt.subplots(rows, columns, figsize=(15, 20))\n",
    "\n",
    "                # Flatten the axes array for easy iteration\n",
    "                axes = axes.flatten()\n",
    "\n",
    "                # Loop through each combination of the 2nd and 3rd dimensions\n",
    "                for i in range(max_iter):\n",
    "                    ax = axes[i]  # Get the appropriate subplot\n",
    "                    \n",
    "                    # Extract the data for the current subplot\n",
    "                    plot_data = sgd_epoch_level_gradients[i, s, k, :]\n",
    "                    \n",
    "                    # Plot the data\n",
    "                    ax.plot(range(1, len(plot_data) + 1), plot_data, marker='o')\n",
    "                    \n",
    "                    # Set the title for each subplot\n",
    "                    ax.set_title(f'Gradient variation within Subproblem Iteration {i+1},{s},{k}')\n",
    "                    \n",
    "                    # Set the labels\n",
    "                    ax.set_xlabel('Epochs')\n",
    "                    ax.set_ylabel('Gradient')\n",
    "                    ax.set_yscale('log')\n",
    "\n",
    "                # Hide any unused subplots\n",
    "                for j in range(max_iter, len(axes)):\n",
    "                    fig.delaxes(axes[j])\n",
    "\n",
    "                # Adjust layout to prevent overlap\n",
    "                plt.tight_layout()\n",
    "\n",
    "                # Show the plot\n",
    "                plt.show()\n",
    "\n",
    "#core tensor \n",
    "\n",
    "# Number of iterations\n",
    "max_iter = sgd_epoch_level_gradients.shape[0]\n",
    "\n",
    "# Define the number of rows and columns for the subplots\n",
    "rows = 5\n",
    "columns = int(np.ceil(max_iter / rows))\n",
    "\n",
    "# Create a figure and a set of subplots\n",
    "fig, axes = plt.subplots(rows, columns, figsize=(15, 20))\n",
    "\n",
    "# Flatten the axes array for easy iteration\n",
    "axes = axes.flatten()\n",
    "\n",
    "# Loop through each combination of the 2nd and 3rd dimensions\n",
    "for i in range(max_iter):\n",
    "    ax = axes[i]  # Get the appropriate subplot\n",
    "    \n",
    "    # Extract the data for the current subplot\n",
    "    plot_data = sgd_epoch_level_gradients[i, 0, 2, :]\n",
    "    \n",
    "    # Plot the data\n",
    "    ax.plot(range(1, len(plot_data) + 1), plot_data, marker='o')\n",
    "    \n",
    "    # Set the title for each subplot\n",
    "    ax.set_title(f'Gradient variation within Subproblem Iteration {i+1}, Core')\n",
    "    \n",
    "    # Set the labels\n",
    "    ax.set_xlabel('Epochs')\n",
    "    ax.set_ylabel('Gradient')\n",
    "    ax.set_yscale('log')\n",
    "\n",
    "# Hide any unused subplots\n",
    "for j in range(max_iter, len(axes)):\n",
    "    fig.delaxes(axes[j])\n",
    "\n",
    "# Adjust layout to prevent overlap\n",
    "plt.tight_layout()\n",
    "\n",
    "# Show the plot\n",
    "plt.show()\n",
    "\n",
    "\n",
    "\n"
   ]
  },
  {
   "cell_type": "markdown",
   "metadata": {},
   "source": [
    "### Loading check points\n"
   ]
  },
  {
   "cell_type": "code",
   "execution_count": null,
   "metadata": {},
   "outputs": [],
   "source": [
    "#Loading the checkpoints\n",
    "\n",
    "import pickle\n",
    "pkl_file = \"/Users/lakrama/Neuro Project Codes/LSR-Tensor-Ridge-Regression/Platforms for Experments/Data/SGD_ExecutionTime_intercept_5_2024-05-30 20:10:38, n_train_650,n_test_100, tensor_dimensions:[32 32], tensor_mode_= ranks:[4 4], separation_rank:2, max_iter=15.pkl\"\n",
    "file= open(pkl_file, 'rb')\n",
    "checkpoint_data = pickle.load(file)\n",
    "file.close()\n",
    "\n",
    "lsr_tesnsor_SGD = checkpoint_data[0]\n",
    "objective_function_values_SGD__loaded = checkpoint_data[11]\n",
    "print(objective_function_values_SGD_1.shape)"
   ]
  },
  {
   "cell_type": "markdown",
   "metadata": {},
   "source": [
    "### Some Unit Tests\n"
   ]
  },
  {
   "cell_type": "code",
   "execution_count": 7,
   "metadata": {},
   "outputs": [
    {
     "name": "stdout",
     "output_type": "stream",
     "text": [
      "[[1 2 3]\n",
      " [2 3 4]\n",
      " [5 6 7]]\n",
      "[1 2 5 2 3 6 3 4 7]\n",
      "(9,)\n",
      "[[1 2 5 2 3 6 3 4 7]]\n",
      "(1, 9)\n"
     ]
    }
   ],
   "source": [
    "import numpy as np\n",
    "\n",
    "A = np.array([[1,2,3],[2,3,4],[5,6,7]])\n",
    "print(A)\n",
    "A = A.flatten(order = 'F')\n",
    "print(A)\n",
    "print(A.shape)\n",
    "A = A.reshape(1,-1)\n",
    "print(A)\n",
    "print(A.shape)\n"
   ]
  },
  {
   "cell_type": "code",
   "execution_count": null,
   "metadata": {},
   "outputs": [],
   "source": []
  }
 ],
 "metadata": {
  "kernelspec": {
   "display_name": "torchtensor",
   "language": "python",
   "name": "python3"
  },
  "language_info": {
   "codemirror_mode": {
    "name": "ipython",
    "version": 3
   },
   "file_extension": ".py",
   "mimetype": "text/x-python",
   "name": "python",
   "nbconvert_exporter": "python",
   "pygments_lexer": "ipython3",
   "version": "3.12.2"
  }
 },
 "nbformat": 4,
 "nbformat_minor": 2
}
