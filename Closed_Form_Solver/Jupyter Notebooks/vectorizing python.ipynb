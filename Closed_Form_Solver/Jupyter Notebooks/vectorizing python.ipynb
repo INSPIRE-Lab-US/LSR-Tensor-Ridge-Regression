{
 "cells": [
  {
   "cell_type": "markdown",
   "metadata": {},
   "source": [
    "### Initial Test \n",
    "\n",
    "flatten works as vectorization of row-wise "
   ]
  },
  {
   "cell_type": "code",
   "execution_count": 33,
   "metadata": {},
   "outputs": [
    {
     "name": "stdout",
     "output_type": "stream",
     "text": [
      "[[ 1  2  3  4]\n",
      " [ 5  6  7  8]\n",
      " [ 9 10 11 12]]\n",
      "[ 1  2  3  4  5  6  7  8  9 10 11 12]\n"
     ]
    }
   ],
   "source": [
    "import numpy as np \n",
    "import matplotlib.pyplot as plt \n",
    "import seaborn as sns\n",
    "\n",
    "A = np.array([[1, 2, 3, 4], [5, 6, 7, 8], [9, 10, 11, 12]])\n",
    "print(A)\n",
    "\n",
    "A_vectorized = A.flatten()\n",
    "print(A_vectorized)"
   ]
  },
  {
   "cell_type": "markdown",
   "metadata": {},
   "source": [
    "### Function Check - Old Code "
   ]
  },
  {
   "cell_type": "code",
   "execution_count": 8,
   "metadata": {},
   "outputs": [],
   "source": [
    "#conversion of the HCP data from Vector --> Matrix\n",
    "\n",
    "def vectomat(dataset,output_dim):\n",
    "    '''\n",
    "    This function is made to convert the  FC value vector of the samples in the dataset \n",
    "    to the functional connectivity matrix\n",
    "\n",
    "    dataset: the dataset with n_samples*n_features\n",
    "    '''\n",
    "    #number of samples\n",
    "    n_samples = dataset.shape[0]\n",
    "    #empty array to hold the reconstructed FC matrices\n",
    "    out_dataset = np.zeros((n_samples,output_dim,output_dim))\n",
    "    #indices for the upper triangle without the diagonal \n",
    "    upper_traingle_indices = np.triu_indices(output_dim,k=1)\n",
    "\n",
    "    #iterating over the samples and making the \n",
    "\n",
    "    for i in range(n_samples):\n",
    "        sample = np.zeros((output_dim,output_dim)) \n",
    "        np.fill_diagonal(sample,1)\n",
    "        sample[upper_traingle_indices] = dataset[i]\n",
    "        sample = sample + sample.T - np.diag(sample.diagonal())\n",
    "        out_dataset[i] = sample\n",
    "    \n",
    "    # Assuming `all_matrices` is the 3D array created previously\n",
    "    # Select a random sample\n",
    "    random_index = np.random.randint(0, n_samples)\n",
    "    random_sample = out_dataset[random_index]\n",
    "\n",
    "    # Plot the heatmap\n",
    "    plt.figure(figsize=(10, 8))\n",
    "    sns.heatmap(random_sample, cmap='viridis', cbar=True)\n",
    "    plt.title(f'Heatmap of Random Sample {random_index}')\n",
    "    plt.show()\n",
    "\n",
    "    return out_dataset"
   ]
  },
  {
   "cell_type": "code",
   "execution_count": 9,
   "metadata": {},
   "outputs": [
    {
     "name": "stdout",
     "output_type": "stream",
     "text": [
      "Symmteric Matrix\n",
      "[[1 2 3 4]\n",
      " [2 1 5 6]\n",
      " [3 5 1 7]\n",
      " [4 6 7 1]]\n",
      "Vectorized Matrix\n",
      "[2 3 4 5 6 7]\n"
     ]
    }
   ],
   "source": [
    "# initialize a symmetric matrix \n",
    "sym = np.array([[1,2,3,4],[2,1,5,6],[3,5,1,7],[4,6,7,1]])\n",
    "print('Symmteric Matrix')\n",
    "print(sym)\n",
    "\n",
    "#extracting the triangle points\n",
    "\n",
    "upper_traingle_indices = np.triu_indices(sym.shape[0],1)\n",
    "upper_traingle_vector = sym[upper_traingle_indices]\n",
    "\n",
    "print('Vectorized Matrix')\n",
    "print(upper_traingle_vector)\n",
    "\n",
    "\n",
    "\n"
   ]
  },
  {
   "cell_type": "code",
   "execution_count": 10,
   "metadata": {},
   "outputs": [
    {
     "name": "stdout",
     "output_type": "stream",
     "text": [
      "(2, 1, 6)\n"
     ]
    },
    {
     "data": {
      "image/png": "[encoded data removed]",
      "text/plain": [
       "<Figure size 1000x800 with 2 Axes>"
      ]
     },
     "metadata": {},
     "output_type": "display_data"
    },
    {
     "name": "stdout",
     "output_type": "stream",
     "text": [
      "Recon_Mat\n",
      "[[[1. 2. 3. 4.]\n",
      "  [2. 1. 5. 6.]\n",
      "  [3. 5. 1. 7.]\n",
      "  [4. 6. 7. 1.]]\n",
      "\n",
      " [[1. 2. 3. 4.]\n",
      "  [2. 1. 5. 6.]\n",
      "  [3. 5. 1. 7.]\n",
      "  [4. 6. 7. 1.]]]\n"
     ]
    }
   ],
   "source": [
    "#checking the function \n",
    "\n",
    "data_mat = np.array([[upper_traingle_vector],[upper_traingle_vector]])\n",
    "print(data_mat.shape)\n",
    "sym_recon  = vectomat(data_mat,4)\n",
    "print('Recon_Mat')\n",
    "print(sym_recon)\n"
   ]
  },
  {
   "cell_type": "markdown",
   "metadata": {},
   "source": [
    "### Function to generate the symmetric matrix "
   ]
  },
  {
   "cell_type": "code",
   "execution_count": 45,
   "metadata": {},
   "outputs": [],
   "source": [
    "\n",
    "def vectomat_matlab(vector, outputdim):\n",
    "    '''\n",
    "    This code is to regenerate the symmetric functional connectivity matrix from the given vectorized upper triangular portion.\n",
    "    This code accounts for the mismatch between MATLAB and Python indexing.\n",
    "\n",
    "    vector: ndarray - the sample vector as a column vector (:,1)\n",
    "    outputdim: scalar - the dimension of the symmetric matrix\n",
    "    '''\n",
    "\n",
    "    # Checking whether the vector dimension and the desired output dimensions match\n",
    "    vector_length = vector.shape[0]\n",
    "    desired_length = outputdim * (outputdim - 1) / 2\n",
    "\n",
    "    # Check if lengths match and raise an error if not\n",
    "    if vector_length != desired_length:\n",
    "        raise ValueError(\"Vector length is insufficient to construct the symmetric matrix.\")\n",
    "    \n",
    "    # Create a symmetric matrix with zeros\n",
    "    matrix = np.zeros((outputdim, outputdim))\n",
    "    \n",
    "    p = 0\n",
    "    \n",
    "    for i in range(outputdim):\n",
    "        for j in range(i):\n",
    "            matrix[i, j] = vector[p]\n",
    "            matrix[j, i] = vector[p]\n",
    "            p += 1\n",
    "\n",
    "        # Set the diagonal element to 1\n",
    "        matrix[i, i] = 1\n",
    "    \n",
    "    return matrix\n",
    "\n",
    "def samplestomat(dataset,outputdim):\n",
    "    \n",
    "    '''\n",
    "    This code is developed to convert the vectorized data matrix in to a 3D data tensor.\n",
    "    \n",
    "    dataset : nd:array - (samples*features)\n",
    "    outputdim : scalar\n",
    "\n",
    "    '''\n",
    "\n",
    "    #number of samples\n",
    "    n_samples = dataset.shape[0]\n",
    "    #3D matrix to hold the output\n",
    "    out_dataset = np.zeros((n_samples,outputdim,outputdim))\n",
    "\n",
    "    for p in range(n_samples):\n",
    "        \n",
    "        sample = dataset[p]\n",
    "        sample = vectomat_matlab(sample,outputdim)\n",
    "        out_dataset[p] = sample\n",
    "\n",
    "    random_index = np.random.randint(0, n_samples)\n",
    "    random_sample = out_dataset[random_index]\n",
    "\n",
    "    # Plot the heatmap\n",
    "    plt.figure(figsize=(10, 8))\n",
    "    sns.heatmap(random_sample, cmap='viridis', cbar=True)\n",
    "    plt.title(f'Heatmap of Random Sample {random_index}')\n",
    "    plt.show()\n",
    "\n",
    "    return out_dataset\n",
    "        \n",
    "\n",
    "\n"
   ]
  },
  {
   "cell_type": "markdown",
   "metadata": {},
   "source": []
  },
  {
   "cell_type": "code",
   "execution_count": 46,
   "metadata": {},
   "outputs": [
    {
     "data": {
      "image/png": "[encoded data removed]",
      "text/plain": [
       "<Figure size 1000x800 with 2 Axes>"
      ]
     },
     "metadata": {},
     "output_type": "display_data"
    }
   ],
   "source": [
    "data_mat = np.array([[1,2,3,4,5,6,7,8,9,10],[2,4,6,4,5,6,7,8,9,10]])\n",
    "outputdim = 5\n",
    "\n",
    "out_data = samplestomat(data_mat,outputdim)"
   ]
  },
  {
   "cell_type": "code",
   "execution_count": 44,
   "metadata": {},
   "outputs": [
    {
     "name": "stdout",
     "output_type": "stream",
     "text": [
      "[[[ 1.  1.  2.  4.  7.]\n",
      "  [ 1.  1.  3.  5.  8.]\n",
      "  [ 2.  3.  1.  6.  9.]\n",
      "  [ 4.  5.  6.  1. 10.]\n",
      "  [ 7.  8.  9. 10.  1.]]\n",
      "\n",
      " [[ 1.  2.  4.  4.  7.]\n",
      "  [ 2.  1.  6.  5.  8.]\n",
      "  [ 4.  6.  1.  6.  9.]\n",
      "  [ 4.  5.  6.  1. 10.]\n",
      "  [ 7.  8.  9. 10.  1.]]]\n"
     ]
    }
   ],
   "source": [
    "print(out_data)"
   ]
  },
  {
   "cell_type": "code",
   "execution_count": null,
   "metadata": {},
   "outputs": [],
   "source": []
  },
  {
   "cell_type": "code",
   "execution_count": null,
   "metadata": {},
   "outputs": [],
   "source": []
  }
 ],
 "metadata": {
  "kernelspec": {
   "display_name": "torchtensor",
   "language": "python",
   "name": "python3"
  },
  "language_info": {
   "codemirror_mode": {
    "name": "ipython",
    "version": 3
   },
   "file_extension": ".py",
   "mimetype": "text/x-python",
   "name": "python",
   "nbconvert_exporter": "python",
   "pygments_lexer": "ipython3",
   "version": "3.12.2"
  }
 },
 "nbformat": 4,
 "nbformat_minor": 2
}
