{
 "cells": [
  {
   "cell_type": "markdown",
   "metadata": {},
   "source": [
    "### Older Version of the vector to symmetric matrix "
   ]
  },
  {
   "cell_type": "code",
   "execution_count": null,
   "metadata": {},
   "outputs": [],
   "source": [
    "\n",
    "def vectomat(dataset,output_dim):\n",
    "    '''\n",
    "    This function is made to convert the  FC value vector of the samples in the dataset \n",
    "    to the functional connectivity matrix\n",
    "\n",
    "    dataset: the dataset with n_samples*n_features\n",
    "    '''\n",
    "    #number of samples\n",
    "    n_samples = dataset.shape[0]\n",
    "    #empty array to hold the reconstructed FC matrices\n",
    "    out_dataset = np.zeros((n_samples,output_dim,output_dim))\n",
    "    #indices for the upper triangle without the diagonal \n",
    "    upper_traingle_indices = np.triu_indices(400,k=1)\n",
    "\n",
    "    #iterating over the samples and making the \n",
    "\n",
    "    for i in range(n_samples):\n",
    "        sample = np.zeros((output_dim,output_dim)) \n",
    "        np.fill_diagonal(sample,1)\n",
    "        sample[upper_traingle_indices] = dataset[i]\n",
    "        sample = sample + sample.T - np.diag(sample.diagonal())\n",
    "        out_dataset[i] = sample\n",
    "    \n",
    "    # Assuming `all_matrices` is the 3D array created previously\n",
    "    # Select a random sample\n",
    "    random_index = np.random.randint(0, n_samples)\n",
    "    random_sample = out_dataset[random_index]\n",
    "\n",
    "    # Plot the heatmap\n",
    "    plt.figure(figsize=(10, 8))\n",
    "    sns.heatmap(random_sample, cmap='viridis', cbar=True)\n",
    "    plt.title(f'Heatmap of Random Sample {random_index}')\n",
    "    plt.show()\n",
    "\n",
    "    return out_dataset"
   ]
  }
 ],
 "metadata": {
  "language_info": {
   "name": "python"
  }
 },
 "nbformat": 4,
 "nbformat_minor": 2
}
